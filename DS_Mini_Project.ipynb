{
  "cells": [
    {
      "cell_type": "code",
      "execution_count": null,
      "metadata": {
        "id": "k_Mv-2E7woUN",
        "colab": {
          "base_uri": "https://localhost:8080/"
        },
        "outputId": "84176dab-310a-4a1e-d458-be0f0faef7a5"
      },
      "outputs": [
        {
          "output_type": "stream",
          "name": "stdout",
          "text": [
            "Mounted at /content/drive\n"
          ]
        }
      ],
      "source": [
        "from google.colab import drive\n",
        "drive.mount('/content/drive')"
      ]
    },
    {
      "cell_type": "markdown",
      "metadata": {
        "id": "-fnngHTfkwa9"
      },
      "source": [
        "# Read"
      ]
    },
    {
      "cell_type": "code",
      "execution_count": null,
      "metadata": {
        "id": "HoDNfs99ehol"
      },
      "outputs": [],
      "source": [
        "import numpy as np\n",
        "import pandas as pd\n",
        "import seaborn as sns\n",
        "import matplotlib.pyplot as plt\n"
      ]
    },
    {
      "cell_type": "code",
      "execution_count": null,
      "metadata": {
        "id": "QVHlDBhjg7KT"
      },
      "outputs": [],
      "source": [
        "data=pd.read_csv(\"/content/drive/MyDrive/Colab Notebooks/data/Data_Train.csv\")"
      ]
    },
    {
      "cell_type": "code",
      "execution_count": null,
      "metadata": {
        "id": "imIRrDZghbZN",
        "colab": {
          "base_uri": "https://localhost:8080/",
          "height": 607
        },
        "outputId": "01d1e1c3-1eb1-42cc-8e11-3a625d9fc4c9"
      },
      "outputs": [
        {
          "output_type": "execute_result",
          "data": {
            "text/html": [
              "\n",
              "  <div id=\"df-90b29bfe-224c-48fc-b539-7cb2b1f81bf1\">\n",
              "    <div class=\"colab-df-container\">\n",
              "      <div>\n",
              "<style scoped>\n",
              "    .dataframe tbody tr th:only-of-type {\n",
              "        vertical-align: middle;\n",
              "    }\n",
              "\n",
              "    .dataframe tbody tr th {\n",
              "        vertical-align: top;\n",
              "    }\n",
              "\n",
              "    .dataframe thead th {\n",
              "        text-align: right;\n",
              "    }\n",
              "</style>\n",
              "<table border=\"1\" class=\"dataframe\">\n",
              "  <thead>\n",
              "    <tr style=\"text-align: right;\">\n",
              "      <th></th>\n",
              "      <th>Name</th>\n",
              "      <th>Location</th>\n",
              "      <th>Year</th>\n",
              "      <th>Kilometers_Driven</th>\n",
              "      <th>Fuel_Type</th>\n",
              "      <th>Transmission</th>\n",
              "      <th>Owner_Type</th>\n",
              "      <th>Mileage</th>\n",
              "      <th>Engine</th>\n",
              "      <th>Power</th>\n",
              "      <th>Seats</th>\n",
              "      <th>Price</th>\n",
              "    </tr>\n",
              "  </thead>\n",
              "  <tbody>\n",
              "    <tr>\n",
              "      <th>0</th>\n",
              "      <td>Maruti Wagon R LXI CNG</td>\n",
              "      <td>Mumbai</td>\n",
              "      <td>2010</td>\n",
              "      <td>72000</td>\n",
              "      <td>CNG</td>\n",
              "      <td>Manual</td>\n",
              "      <td>First</td>\n",
              "      <td>26.6 km/kg</td>\n",
              "      <td>998 CC</td>\n",
              "      <td>58.16 bhp</td>\n",
              "      <td>5.0</td>\n",
              "      <td>1.75</td>\n",
              "    </tr>\n",
              "    <tr>\n",
              "      <th>1</th>\n",
              "      <td>Hyundai Creta 1.6 CRDi SX Option</td>\n",
              "      <td>Pune</td>\n",
              "      <td>2015</td>\n",
              "      <td>41000</td>\n",
              "      <td>Diesel</td>\n",
              "      <td>Manual</td>\n",
              "      <td>First</td>\n",
              "      <td>19.67 kmpl</td>\n",
              "      <td>1582 CC</td>\n",
              "      <td>126.2 bhp</td>\n",
              "      <td>5.0</td>\n",
              "      <td>12.50</td>\n",
              "    </tr>\n",
              "    <tr>\n",
              "      <th>2</th>\n",
              "      <td>Honda Jazz V</td>\n",
              "      <td>Chennai</td>\n",
              "      <td>2011</td>\n",
              "      <td>46000</td>\n",
              "      <td>Petrol</td>\n",
              "      <td>Manual</td>\n",
              "      <td>First</td>\n",
              "      <td>18.2 kmpl</td>\n",
              "      <td>1199 CC</td>\n",
              "      <td>88.7 bhp</td>\n",
              "      <td>5.0</td>\n",
              "      <td>4.50</td>\n",
              "    </tr>\n",
              "    <tr>\n",
              "      <th>3</th>\n",
              "      <td>Maruti Ertiga VDI</td>\n",
              "      <td>Chennai</td>\n",
              "      <td>2012</td>\n",
              "      <td>87000</td>\n",
              "      <td>Diesel</td>\n",
              "      <td>Manual</td>\n",
              "      <td>First</td>\n",
              "      <td>20.77 kmpl</td>\n",
              "      <td>1248 CC</td>\n",
              "      <td>88.76 bhp</td>\n",
              "      <td>7.0</td>\n",
              "      <td>6.00</td>\n",
              "    </tr>\n",
              "    <tr>\n",
              "      <th>4</th>\n",
              "      <td>Audi A4 New 2.0 TDI Multitronic</td>\n",
              "      <td>Coimbatore</td>\n",
              "      <td>2013</td>\n",
              "      <td>40670</td>\n",
              "      <td>Diesel</td>\n",
              "      <td>Automatic</td>\n",
              "      <td>Second</td>\n",
              "      <td>15.2 kmpl</td>\n",
              "      <td>1968 CC</td>\n",
              "      <td>140.8 bhp</td>\n",
              "      <td>5.0</td>\n",
              "      <td>17.74</td>\n",
              "    </tr>\n",
              "    <tr>\n",
              "      <th>...</th>\n",
              "      <td>...</td>\n",
              "      <td>...</td>\n",
              "      <td>...</td>\n",
              "      <td>...</td>\n",
              "      <td>...</td>\n",
              "      <td>...</td>\n",
              "      <td>...</td>\n",
              "      <td>...</td>\n",
              "      <td>...</td>\n",
              "      <td>...</td>\n",
              "      <td>...</td>\n",
              "      <td>...</td>\n",
              "    </tr>\n",
              "    <tr>\n",
              "      <th>6014</th>\n",
              "      <td>Maruti Swift VDI</td>\n",
              "      <td>Delhi</td>\n",
              "      <td>2014</td>\n",
              "      <td>27365</td>\n",
              "      <td>Diesel</td>\n",
              "      <td>Manual</td>\n",
              "      <td>First</td>\n",
              "      <td>28.4 kmpl</td>\n",
              "      <td>1248 CC</td>\n",
              "      <td>74 bhp</td>\n",
              "      <td>5.0</td>\n",
              "      <td>4.75</td>\n",
              "    </tr>\n",
              "    <tr>\n",
              "      <th>6015</th>\n",
              "      <td>Hyundai Xcent 1.1 CRDi S</td>\n",
              "      <td>Jaipur</td>\n",
              "      <td>2015</td>\n",
              "      <td>100000</td>\n",
              "      <td>Diesel</td>\n",
              "      <td>Manual</td>\n",
              "      <td>First</td>\n",
              "      <td>24.4 kmpl</td>\n",
              "      <td>1120 CC</td>\n",
              "      <td>71 bhp</td>\n",
              "      <td>5.0</td>\n",
              "      <td>4.00</td>\n",
              "    </tr>\n",
              "    <tr>\n",
              "      <th>6016</th>\n",
              "      <td>Mahindra Xylo D4 BSIV</td>\n",
              "      <td>Jaipur</td>\n",
              "      <td>2012</td>\n",
              "      <td>55000</td>\n",
              "      <td>Diesel</td>\n",
              "      <td>Manual</td>\n",
              "      <td>Second</td>\n",
              "      <td>14.0 kmpl</td>\n",
              "      <td>2498 CC</td>\n",
              "      <td>112 bhp</td>\n",
              "      <td>8.0</td>\n",
              "      <td>2.90</td>\n",
              "    </tr>\n",
              "    <tr>\n",
              "      <th>6017</th>\n",
              "      <td>Maruti Wagon R VXI</td>\n",
              "      <td>Kolkata</td>\n",
              "      <td>2013</td>\n",
              "      <td>46000</td>\n",
              "      <td>Petrol</td>\n",
              "      <td>Manual</td>\n",
              "      <td>First</td>\n",
              "      <td>18.9 kmpl</td>\n",
              "      <td>998 CC</td>\n",
              "      <td>67.1 bhp</td>\n",
              "      <td>5.0</td>\n",
              "      <td>2.65</td>\n",
              "    </tr>\n",
              "    <tr>\n",
              "      <th>6018</th>\n",
              "      <td>Chevrolet Beat Diesel</td>\n",
              "      <td>Hyderabad</td>\n",
              "      <td>2011</td>\n",
              "      <td>47000</td>\n",
              "      <td>Diesel</td>\n",
              "      <td>Manual</td>\n",
              "      <td>First</td>\n",
              "      <td>25.44 kmpl</td>\n",
              "      <td>936 CC</td>\n",
              "      <td>57.6 bhp</td>\n",
              "      <td>5.0</td>\n",
              "      <td>2.50</td>\n",
              "    </tr>\n",
              "  </tbody>\n",
              "</table>\n",
              "<p>6019 rows × 12 columns</p>\n",
              "</div>\n",
              "      <button class=\"colab-df-convert\" onclick=\"convertToInteractive('df-90b29bfe-224c-48fc-b539-7cb2b1f81bf1')\"\n",
              "              title=\"Convert this dataframe to an interactive table.\"\n",
              "              style=\"display:none;\">\n",
              "        \n",
              "  <svg xmlns=\"http://www.w3.org/2000/svg\" height=\"24px\"viewBox=\"0 0 24 24\"\n",
              "       width=\"24px\">\n",
              "    <path d=\"M0 0h24v24H0V0z\" fill=\"none\"/>\n",
              "    <path d=\"M18.56 5.44l.94 2.06.94-2.06 2.06-.94-2.06-.94-.94-2.06-.94 2.06-2.06.94zm-11 1L8.5 8.5l.94-2.06 2.06-.94-2.06-.94L8.5 2.5l-.94 2.06-2.06.94zm10 10l.94 2.06.94-2.06 2.06-.94-2.06-.94-.94-2.06-.94 2.06-2.06.94z\"/><path d=\"M17.41 7.96l-1.37-1.37c-.4-.4-.92-.59-1.43-.59-.52 0-1.04.2-1.43.59L10.3 9.45l-7.72 7.72c-.78.78-.78 2.05 0 2.83L4 21.41c.39.39.9.59 1.41.59.51 0 1.02-.2 1.41-.59l7.78-7.78 2.81-2.81c.8-.78.8-2.07 0-2.86zM5.41 20L4 18.59l7.72-7.72 1.47 1.35L5.41 20z\"/>\n",
              "  </svg>\n",
              "      </button>\n",
              "      \n",
              "  <style>\n",
              "    .colab-df-container {\n",
              "      display:flex;\n",
              "      flex-wrap:wrap;\n",
              "      gap: 12px;\n",
              "    }\n",
              "\n",
              "    .colab-df-convert {\n",
              "      background-color: #E8F0FE;\n",
              "      border: none;\n",
              "      border-radius: 50%;\n",
              "      cursor: pointer;\n",
              "      display: none;\n",
              "      fill: #1967D2;\n",
              "      height: 32px;\n",
              "      padding: 0 0 0 0;\n",
              "      width: 32px;\n",
              "    }\n",
              "\n",
              "    .colab-df-convert:hover {\n",
              "      background-color: #E2EBFA;\n",
              "      box-shadow: 0px 1px 2px rgba(60, 64, 67, 0.3), 0px 1px 3px 1px rgba(60, 64, 67, 0.15);\n",
              "      fill: #174EA6;\n",
              "    }\n",
              "\n",
              "    [theme=dark] .colab-df-convert {\n",
              "      background-color: #3B4455;\n",
              "      fill: #D2E3FC;\n",
              "    }\n",
              "\n",
              "    [theme=dark] .colab-df-convert:hover {\n",
              "      background-color: #434B5C;\n",
              "      box-shadow: 0px 1px 3px 1px rgba(0, 0, 0, 0.15);\n",
              "      filter: drop-shadow(0px 1px 2px rgba(0, 0, 0, 0.3));\n",
              "      fill: #FFFFFF;\n",
              "    }\n",
              "  </style>\n",
              "\n",
              "      <script>\n",
              "        const buttonEl =\n",
              "          document.querySelector('#df-90b29bfe-224c-48fc-b539-7cb2b1f81bf1 button.colab-df-convert');\n",
              "        buttonEl.style.display =\n",
              "          google.colab.kernel.accessAllowed ? 'block' : 'none';\n",
              "\n",
              "        async function convertToInteractive(key) {\n",
              "          const element = document.querySelector('#df-90b29bfe-224c-48fc-b539-7cb2b1f81bf1');\n",
              "          const dataTable =\n",
              "            await google.colab.kernel.invokeFunction('convertToInteractive',\n",
              "                                                     [key], {});\n",
              "          if (!dataTable) return;\n",
              "\n",
              "          const docLinkHtml = 'Like what you see? Visit the ' +\n",
              "            '<a target=\"_blank\" href=https://colab.research.google.com/notebooks/data_table.ipynb>data table notebook</a>'\n",
              "            + ' to learn more about interactive tables.';\n",
              "          element.innerHTML = '';\n",
              "          dataTable['output_type'] = 'display_data';\n",
              "          await google.colab.output.renderOutput(dataTable, element);\n",
              "          const docLink = document.createElement('div');\n",
              "          docLink.innerHTML = docLinkHtml;\n",
              "          element.appendChild(docLink);\n",
              "        }\n",
              "      </script>\n",
              "    </div>\n",
              "  </div>\n",
              "  "
            ],
            "text/plain": [
              "                                  Name    Location  ...  Seats  Price\n",
              "0               Maruti Wagon R LXI CNG      Mumbai  ...    5.0   1.75\n",
              "1     Hyundai Creta 1.6 CRDi SX Option        Pune  ...    5.0  12.50\n",
              "2                         Honda Jazz V     Chennai  ...    5.0   4.50\n",
              "3                    Maruti Ertiga VDI     Chennai  ...    7.0   6.00\n",
              "4      Audi A4 New 2.0 TDI Multitronic  Coimbatore  ...    5.0  17.74\n",
              "...                                ...         ...  ...    ...    ...\n",
              "6014                  Maruti Swift VDI       Delhi  ...    5.0   4.75\n",
              "6015          Hyundai Xcent 1.1 CRDi S      Jaipur  ...    5.0   4.00\n",
              "6016             Mahindra Xylo D4 BSIV      Jaipur  ...    8.0   2.90\n",
              "6017                Maruti Wagon R VXI     Kolkata  ...    5.0   2.65\n",
              "6018             Chevrolet Beat Diesel   Hyderabad  ...    5.0   2.50\n",
              "\n",
              "[6019 rows x 12 columns]"
            ]
          },
          "metadata": {},
          "execution_count": 4
        }
      ],
      "source": [
        "data"
      ]
    },
    {
      "cell_type": "code",
      "execution_count": null,
      "metadata": {
        "id": "DTJ7SO5NiP1Y",
        "colab": {
          "base_uri": "https://localhost:8080/"
        },
        "outputId": "364f1ac4-0af1-4847-b803-2cdb37834cfb"
      },
      "outputs": [
        {
          "output_type": "execute_result",
          "data": {
            "text/plain": [
              "(6019, 12)"
            ]
          },
          "metadata": {},
          "execution_count": 5
        }
      ],
      "source": [
        "data.shape"
      ]
    },
    {
      "cell_type": "code",
      "execution_count": null,
      "metadata": {
        "id": "nyTJM6zaiS6e",
        "colab": {
          "base_uri": "https://localhost:8080/"
        },
        "outputId": "393c5a66-bcfa-4738-f8c6-4073b30187cc"
      },
      "outputs": [
        {
          "output_type": "execute_result",
          "data": {
            "text/plain": [
              "Name                  object\n",
              "Location              object\n",
              "Year                   int64\n",
              "Kilometers_Driven      int64\n",
              "Fuel_Type             object\n",
              "Transmission          object\n",
              "Owner_Type            object\n",
              "Mileage               object\n",
              "Engine                object\n",
              "Power                 object\n",
              "Seats                float64\n",
              "Price                float64\n",
              "dtype: object"
            ]
          },
          "metadata": {},
          "execution_count": 6
        }
      ],
      "source": [
        "data.dtypes"
      ]
    },
    {
      "cell_type": "code",
      "execution_count": null,
      "metadata": {
        "id": "zf7achtWhdhI",
        "colab": {
          "base_uri": "https://localhost:8080/"
        },
        "outputId": "3e5ef8f3-2c1b-44d5-dec9-118dc3eeb63e"
      },
      "outputs": [
        {
          "output_type": "execute_result",
          "data": {
            "text/plain": [
              "Name                  0\n",
              "Location              0\n",
              "Year                  0\n",
              "Kilometers_Driven     0\n",
              "Fuel_Type             0\n",
              "Transmission          0\n",
              "Owner_Type            0\n",
              "Mileage               2\n",
              "Engine               36\n",
              "Power                36\n",
              "Seats                42\n",
              "Price                 0\n",
              "dtype: int64"
            ]
          },
          "metadata": {},
          "execution_count": 7
        }
      ],
      "source": [
        "data.isnull().sum()"
      ]
    },
    {
      "cell_type": "code",
      "execution_count": null,
      "metadata": {
        "id": "EVHH3W96092L",
        "colab": {
          "base_uri": "https://localhost:8080/"
        },
        "outputId": "a5e331b1-568e-4661-bf61-7b1233ad77b6"
      },
      "outputs": [
        {
          "output_type": "execute_result",
          "data": {
            "text/plain": [
              "Index(['Name', 'Location', 'Year', 'Kilometers_Driven', 'Fuel_Type',\n",
              "       'Transmission', 'Owner_Type', 'Mileage', 'Engine', 'Power', 'Seats',\n",
              "       'Price'],\n",
              "      dtype='object')"
            ]
          },
          "metadata": {},
          "execution_count": 8
        }
      ],
      "source": [
        "data.columns"
      ]
    },
    {
      "cell_type": "markdown",
      "metadata": {
        "id": "sANR_UBDmhTC"
      },
      "source": [
        "# Data Cleaning\n"
      ]
    },
    {
      "cell_type": "code",
      "execution_count": null,
      "metadata": {
        "id": "4QeyP6HU5xLj",
        "colab": {
          "base_uri": "https://localhost:8080/"
        },
        "outputId": "5b709d0a-d860-4927-f62a-c32bcf6a6a9a"
      },
      "outputs": [
        {
          "output_type": "execute_result",
          "data": {
            "text/plain": [
              "Fuel_Type\n",
              "CNG           56\n",
              "Diesel      3205\n",
              "Electric       2\n",
              "LPG           10\n",
              "Petrol      2746\n",
              "dtype: int64"
            ]
          },
          "metadata": {},
          "execution_count": 9
        }
      ],
      "source": [
        "data.groupby(by=['Fuel_Type']).size()"
      ]
    },
    {
      "cell_type": "markdown",
      "metadata": {
        "id": "ka-l1JbdCeKr"
      },
      "source": [
        "Removing outliers in fuel type"
      ]
    },
    {
      "cell_type": "code",
      "execution_count": null,
      "metadata": {
        "id": "Nj18lrBx5wee"
      },
      "outputs": [],
      "source": [
        "data = data[data['Fuel_Type'] != 'Electric']"
      ]
    },
    {
      "cell_type": "code",
      "execution_count": null,
      "metadata": {
        "id": "7Qa_kSWa8HOs",
        "colab": {
          "base_uri": "https://localhost:8080/",
          "height": 352
        },
        "outputId": "57695517-aef0-4d4f-bf8c-7e8b9c337826"
      },
      "outputs": [
        {
          "output_type": "stream",
          "name": "stderr",
          "text": [
            "/usr/local/lib/python3.7/dist-packages/seaborn/_decorators.py:43: FutureWarning: Pass the following variable as a keyword arg: x. From version 0.12, the only valid positional argument will be `data`, and passing other arguments without an explicit keyword will result in an error or misinterpretation.\n",
            "  FutureWarning\n"
          ]
        },
        {
          "output_type": "execute_result",
          "data": {
            "text/plain": [
              "<matplotlib.axes._subplots.AxesSubplot at 0x7f8154151d10>"
            ]
          },
          "metadata": {},
          "execution_count": 11
        },
        {
          "output_type": "display_data",
          "data": {
            "image/png": "[encoded data removed]",
            "text/plain": [
              "<Figure size 432x288 with 1 Axes>"
            ]
          },
          "metadata": {
            "needs_background": "light"
          }
        }
      ],
      "source": [
        "sns.boxplot(data.Kilometers_Driven)"
      ]
    },
    {
      "cell_type": "code",
      "execution_count": null,
      "metadata": {
        "id": "-BBN7osp6EpR",
        "colab": {
          "base_uri": "https://localhost:8080/"
        },
        "outputId": "3a9b97ae-314d-4cda-d707-10bb30d7e930"
      },
      "outputs": [
        {
          "output_type": "stream",
          "name": "stdout",
          "text": [
            "4\n",
            "2\n"
          ]
        }
      ],
      "source": [
        "print(len(data[data['Kilometers_Driven'] > 500000]))\n",
        "print(len(data[data['Kilometers_Driven'] < 1000]))"
      ]
    },
    {
      "cell_type": "markdown",
      "metadata": {
        "id": "Dzidu2a7Cxwx"
      },
      "source": [
        "Removing outliers in kilometers driven"
      ]
    },
    {
      "cell_type": "code",
      "execution_count": null,
      "metadata": {
        "id": "kd9bm4Vg6MCo"
      },
      "outputs": [],
      "source": [
        "data = data[data['Kilometers_Driven'] < 500000]\n",
        "data = data[data['Kilometers_Driven'] > 1000]"
      ]
    },
    {
      "cell_type": "markdown",
      "metadata": {
        "id": "qyrTmrlvDEls"
      },
      "source": [
        "modifying car names by brands"
      ]
    },
    {
      "cell_type": "code",
      "execution_count": null,
      "metadata": {
        "id": "VMI8EO2lBbnq"
      },
      "outputs": [],
      "source": [
        "data.Name = data.Name.str.split().str.get(0)"
      ]
    },
    {
      "cell_type": "code",
      "execution_count": null,
      "metadata": {
        "id": "-uUx0g2m7BBt",
        "colab": {
          "base_uri": "https://localhost:8080/"
        },
        "outputId": "0bddd277-2219-4388-9d03-eaf5b87617e1"
      },
      "outputs": [
        {
          "output_type": "execute_result",
          "data": {
            "text/plain": [
              "Maruti           1208\n",
              "Hyundai          1104\n",
              "Honda             608\n",
              "Toyota            410\n",
              "Mercedes-Benz     318\n",
              "Volkswagen        313\n",
              "Ford              299\n",
              "Mahindra          271\n",
              "BMW               266\n",
              "Audi              236\n",
              "Tata              184\n",
              "Skoda             172\n",
              "Renault           144\n",
              "Chevrolet         121\n",
              "Nissan             91\n",
              "Land               60\n",
              "Jaguar             39\n",
              "Fiat               28\n",
              "Mitsubishi         27\n",
              "Mini               26\n",
              "Volvo              21\n",
              "Porsche            18\n",
              "Jeep               15\n",
              "Datsun             13\n",
              "Force               3\n",
              "ISUZU               2\n",
              "Isuzu               1\n",
              "Lamborghini         1\n",
              "Ambassador          1\n",
              "Bentley             1\n",
              "Smart               1\n",
              "Name: Name, dtype: int64"
            ]
          },
          "metadata": {},
          "execution_count": 15
        }
      ],
      "source": [
        "data['Name'].value_counts()"
      ]
    },
    {
      "cell_type": "markdown",
      "metadata": {
        "id": "ysAd6CXCC4-X"
      },
      "source": [
        "Removing outliers in brand name"
      ]
    },
    {
      "cell_type": "code",
      "execution_count": null,
      "metadata": {
        "id": "nSK9tJt16_0y"
      },
      "outputs": [],
      "source": [
        "data = data[data['Name'] != 'Force']\n",
        "data = data[data['Name'] != 'ISUZU']\n",
        "data = data[data['Name'] != 'Bentley']\n",
        "data = data[data['Name'] != 'Lamborghini']\n",
        "data = data[data['Name'] != 'Isuzu']\n",
        "data = data[data['Name'] != 'Smart']\n",
        "data = data[data['Name'] != 'Ambassador']"
      ]
    },
    {
      "cell_type": "code",
      "execution_count": null,
      "metadata": {
        "id": "Rqzfcjl47X4Q",
        "colab": {
          "base_uri": "https://localhost:8080/",
          "height": 351
        },
        "outputId": "48fcecd8-2a8c-4cdb-e031-3380ac46a2f1"
      },
      "outputs": [
        {
          "output_type": "stream",
          "name": "stderr",
          "text": [
            "/usr/local/lib/python3.7/dist-packages/seaborn/_decorators.py:43: FutureWarning: Pass the following variable as a keyword arg: x. From version 0.12, the only valid positional argument will be `data`, and passing other arguments without an explicit keyword will result in an error or misinterpretation.\n",
            "  FutureWarning\n"
          ]
        },
        {
          "output_type": "execute_result",
          "data": {
            "text/plain": [
              "<matplotlib.axes._subplots.AxesSubplot at 0x7f8152717d10>"
            ]
          },
          "metadata": {},
          "execution_count": 17
        },
        {
          "output_type": "display_data",
          "data": {
            "image/png": "[encoded data removed]",
            "text/plain": [
              "<Figure size 432x288 with 1 Axes>"
            ]
          },
          "metadata": {
            "needs_background": "light"
          }
        }
      ],
      "source": [
        "sns.boxplot(data.Price)"
      ]
    },
    {
      "cell_type": "code",
      "execution_count": null,
      "metadata": {
        "id": "nQ-cmTuA7ZUy",
        "colab": {
          "base_uri": "https://localhost:8080/"
        },
        "outputId": "93a4e111-c9d7-42ab-9c36-40418a300d05"
      },
      "outputs": [
        {
          "output_type": "stream",
          "name": "stdout",
          "text": [
            "0.44\n",
            "160.0\n"
          ]
        }
      ],
      "source": [
        "print(data.Price.min())\n",
        "print(data.Price.max())"
      ]
    },
    {
      "cell_type": "markdown",
      "metadata": {
        "id": "zo-XnYLtDOBZ"
      },
      "source": [
        "Removing outliers in price"
      ]
    },
    {
      "cell_type": "code",
      "execution_count": null,
      "metadata": {
        "id": "AOlnxegW7fqA"
      },
      "outputs": [],
      "source": [
        "data = data[data.Price < 120]"
      ]
    },
    {
      "cell_type": "markdown",
      "metadata": {
        "id": "noOd6Td6GyR4"
      },
      "source": [
        "# Data Transformation"
      ]
    },
    {
      "cell_type": "code",
      "execution_count": null,
      "metadata": {
        "id": "NK8VGF6pmla_",
        "colab": {
          "base_uri": "https://localhost:8080/"
        },
        "outputId": "df7cf0b5-4351-4718-ed2d-213e97f1a112"
      },
      "outputs": [
        {
          "output_type": "execute_result",
          "data": {
            "text/plain": [
              "Location\n",
              "Ahmedabad     223\n",
              "Bangalore     358\n",
              "Chennai       488\n",
              "Coimbatore    635\n",
              "Delhi         552\n",
              "Hyderabad     739\n",
              "Jaipur        410\n",
              "Kochi         651\n",
              "Kolkata       531\n",
              "Mumbai        785\n",
              "Pune          619\n",
              "dtype: int64"
            ]
          },
          "metadata": {},
          "execution_count": 20
        }
      ],
      "source": [
        "data.groupby(by=['Location']).size()"
      ]
    },
    {
      "cell_type": "code",
      "execution_count": null,
      "metadata": {
        "id": "PYO-i-sDm8_Q",
        "colab": {
          "base_uri": "https://localhost:8080/"
        },
        "outputId": "db64d261-1293-473b-ce56-87dacbf4bec8"
      },
      "outputs": [
        {
          "output_type": "execute_result",
          "data": {
            "text/plain": [
              "Transmission\n",
              "Automatic    1708\n",
              "Manual       4283\n",
              "dtype: int64"
            ]
          },
          "metadata": {},
          "execution_count": 21
        }
      ],
      "source": [
        "data.groupby(by=['Transmission']).size()"
      ]
    },
    {
      "cell_type": "code",
      "execution_count": null,
      "metadata": {
        "id": "2HooEiUGnFtA",
        "colab": {
          "base_uri": "https://localhost:8080/"
        },
        "outputId": "7cc421de-64fc-40a0-dd94-8862a87593df"
      },
      "outputs": [
        {
          "output_type": "execute_result",
          "data": {
            "text/plain": [
              "Owner_Type\n",
              "First             4904\n",
              "Fourth & Above       9\n",
              "Second             967\n",
              "Third              111\n",
              "dtype: int64"
            ]
          },
          "metadata": {},
          "execution_count": 22
        }
      ],
      "source": [
        "data.groupby(by=['Owner_Type']).size()"
      ]
    },
    {
      "cell_type": "code",
      "execution_count": null,
      "metadata": {
        "id": "rLRjZvxIHO5f",
        "colab": {
          "base_uri": "https://localhost:8080/"
        },
        "outputId": "d54a7400-3e25-4522-b5af-9e638cc5ca6b"
      },
      "outputs": [
        {
          "output_type": "execute_result",
          "data": {
            "text/plain": [
              "Fuel_Type\n",
              "CNG         56\n",
              "Diesel    3191\n",
              "LPG         10\n",
              "Petrol    2734\n",
              "dtype: int64"
            ]
          },
          "metadata": {},
          "execution_count": 23
        }
      ],
      "source": [
        "data.groupby(by=['Fuel_Type']).size()"
      ]
    },
    {
      "cell_type": "markdown",
      "metadata": {
        "id": "5UlXd3dTDjf3"
      },
      "source": [
        "Converting Mileage, Engine and Power to numerical columns"
      ]
    },
    {
      "cell_type": "code",
      "execution_count": null,
      "metadata": {
        "id": "kByOq7YxpgJ-",
        "colab": {
          "base_uri": "https://localhost:8080/",
          "height": 206
        },
        "outputId": "31afb0be-13e1-4e90-9578-8e63c11b3d10"
      },
      "outputs": [
        {
          "output_type": "execute_result",
          "data": {
            "text/html": [
              "\n",
              "  <div id=\"df-b32b5829-ef63-4bc2-8063-f0a4c45ce458\">\n",
              "    <div class=\"colab-df-container\">\n",
              "      <div>\n",
              "<style scoped>\n",
              "    .dataframe tbody tr th:only-of-type {\n",
              "        vertical-align: middle;\n",
              "    }\n",
              "\n",
              "    .dataframe tbody tr th {\n",
              "        vertical-align: top;\n",
              "    }\n",
              "\n",
              "    .dataframe thead th {\n",
              "        text-align: right;\n",
              "    }\n",
              "</style>\n",
              "<table border=\"1\" class=\"dataframe\">\n",
              "  <thead>\n",
              "    <tr style=\"text-align: right;\">\n",
              "      <th></th>\n",
              "      <th>Name</th>\n",
              "      <th>Location</th>\n",
              "      <th>Year</th>\n",
              "      <th>Kilometers_Driven</th>\n",
              "      <th>Fuel_Type</th>\n",
              "      <th>Transmission</th>\n",
              "      <th>Owner_Type</th>\n",
              "      <th>Mileage</th>\n",
              "      <th>Engine</th>\n",
              "      <th>Power</th>\n",
              "      <th>Seats</th>\n",
              "      <th>Price</th>\n",
              "    </tr>\n",
              "  </thead>\n",
              "  <tbody>\n",
              "    <tr>\n",
              "      <th>0</th>\n",
              "      <td>Maruti</td>\n",
              "      <td>Mumbai</td>\n",
              "      <td>2010</td>\n",
              "      <td>72000</td>\n",
              "      <td>CNG</td>\n",
              "      <td>Manual</td>\n",
              "      <td>First</td>\n",
              "      <td>26.60</td>\n",
              "      <td>998</td>\n",
              "      <td>58.16</td>\n",
              "      <td>5.0</td>\n",
              "      <td>1.75</td>\n",
              "    </tr>\n",
              "    <tr>\n",
              "      <th>1</th>\n",
              "      <td>Hyundai</td>\n",
              "      <td>Pune</td>\n",
              "      <td>2015</td>\n",
              "      <td>41000</td>\n",
              "      <td>Diesel</td>\n",
              "      <td>Manual</td>\n",
              "      <td>First</td>\n",
              "      <td>19.67</td>\n",
              "      <td>1582</td>\n",
              "      <td>126.2</td>\n",
              "      <td>5.0</td>\n",
              "      <td>12.50</td>\n",
              "    </tr>\n",
              "    <tr>\n",
              "      <th>2</th>\n",
              "      <td>Honda</td>\n",
              "      <td>Chennai</td>\n",
              "      <td>2011</td>\n",
              "      <td>46000</td>\n",
              "      <td>Petrol</td>\n",
              "      <td>Manual</td>\n",
              "      <td>First</td>\n",
              "      <td>18.20</td>\n",
              "      <td>1199</td>\n",
              "      <td>88.7</td>\n",
              "      <td>5.0</td>\n",
              "      <td>4.50</td>\n",
              "    </tr>\n",
              "    <tr>\n",
              "      <th>3</th>\n",
              "      <td>Maruti</td>\n",
              "      <td>Chennai</td>\n",
              "      <td>2012</td>\n",
              "      <td>87000</td>\n",
              "      <td>Diesel</td>\n",
              "      <td>Manual</td>\n",
              "      <td>First</td>\n",
              "      <td>20.77</td>\n",
              "      <td>1248</td>\n",
              "      <td>88.76</td>\n",
              "      <td>7.0</td>\n",
              "      <td>6.00</td>\n",
              "    </tr>\n",
              "    <tr>\n",
              "      <th>4</th>\n",
              "      <td>Audi</td>\n",
              "      <td>Coimbatore</td>\n",
              "      <td>2013</td>\n",
              "      <td>40670</td>\n",
              "      <td>Diesel</td>\n",
              "      <td>Automatic</td>\n",
              "      <td>Second</td>\n",
              "      <td>15.20</td>\n",
              "      <td>1968</td>\n",
              "      <td>140.8</td>\n",
              "      <td>5.0</td>\n",
              "      <td>17.74</td>\n",
              "    </tr>\n",
              "  </tbody>\n",
              "</table>\n",
              "</div>\n",
              "      <button class=\"colab-df-convert\" onclick=\"convertToInteractive('df-b32b5829-ef63-4bc2-8063-f0a4c45ce458')\"\n",
              "              title=\"Convert this dataframe to an interactive table.\"\n",
              "              style=\"display:none;\">\n",
              "        \n",
              "  <svg xmlns=\"http://www.w3.org/2000/svg\" height=\"24px\"viewBox=\"0 0 24 24\"\n",
              "       width=\"24px\">\n",
              "    <path d=\"M0 0h24v24H0V0z\" fill=\"none\"/>\n",
              "    <path d=\"M18.56 5.44l.94 2.06.94-2.06 2.06-.94-2.06-.94-.94-2.06-.94 2.06-2.06.94zm-11 1L8.5 8.5l.94-2.06 2.06-.94-2.06-.94L8.5 2.5l-.94 2.06-2.06.94zm10 10l.94 2.06.94-2.06 2.06-.94-2.06-.94-.94-2.06-.94 2.06-2.06.94z\"/><path d=\"M17.41 7.96l-1.37-1.37c-.4-.4-.92-.59-1.43-.59-.52 0-1.04.2-1.43.59L10.3 9.45l-7.72 7.72c-.78.78-.78 2.05 0 2.83L4 21.41c.39.39.9.59 1.41.59.51 0 1.02-.2 1.41-.59l7.78-7.78 2.81-2.81c.8-.78.8-2.07 0-2.86zM5.41 20L4 18.59l7.72-7.72 1.47 1.35L5.41 20z\"/>\n",
              "  </svg>\n",
              "      </button>\n",
              "      \n",
              "  <style>\n",
              "    .colab-df-container {\n",
              "      display:flex;\n",
              "      flex-wrap:wrap;\n",
              "      gap: 12px;\n",
              "    }\n",
              "\n",
              "    .colab-df-convert {\n",
              "      background-color: #E8F0FE;\n",
              "      border: none;\n",
              "      border-radius: 50%;\n",
              "      cursor: pointer;\n",
              "      display: none;\n",
              "      fill: #1967D2;\n",
              "      height: 32px;\n",
              "      padding: 0 0 0 0;\n",
              "      width: 32px;\n",
              "    }\n",
              "\n",
              "    .colab-df-convert:hover {\n",
              "      background-color: #E2EBFA;\n",
              "      box-shadow: 0px 1px 2px rgba(60, 64, 67, 0.3), 0px 1px 3px 1px rgba(60, 64, 67, 0.15);\n",
              "      fill: #174EA6;\n",
              "    }\n",
              "\n",
              "    [theme=dark] .colab-df-convert {\n",
              "      background-color: #3B4455;\n",
              "      fill: #D2E3FC;\n",
              "    }\n",
              "\n",
              "    [theme=dark] .colab-df-convert:hover {\n",
              "      background-color: #434B5C;\n",
              "      box-shadow: 0px 1px 3px 1px rgba(0, 0, 0, 0.15);\n",
              "      filter: drop-shadow(0px 1px 2px rgba(0, 0, 0, 0.3));\n",
              "      fill: #FFFFFF;\n",
              "    }\n",
              "  </style>\n",
              "\n",
              "      <script>\n",
              "        const buttonEl =\n",
              "          document.querySelector('#df-b32b5829-ef63-4bc2-8063-f0a4c45ce458 button.colab-df-convert');\n",
              "        buttonEl.style.display =\n",
              "          google.colab.kernel.accessAllowed ? 'block' : 'none';\n",
              "\n",
              "        async function convertToInteractive(key) {\n",
              "          const element = document.querySelector('#df-b32b5829-ef63-4bc2-8063-f0a4c45ce458');\n",
              "          const dataTable =\n",
              "            await google.colab.kernel.invokeFunction('convertToInteractive',\n",
              "                                                     [key], {});\n",
              "          if (!dataTable) return;\n",
              "\n",
              "          const docLinkHtml = 'Like what you see? Visit the ' +\n",
              "            '<a target=\"_blank\" href=https://colab.research.google.com/notebooks/data_table.ipynb>data table notebook</a>'\n",
              "            + ' to learn more about interactive tables.';\n",
              "          element.innerHTML = '';\n",
              "          dataTable['output_type'] = 'display_data';\n",
              "          await google.colab.output.renderOutput(dataTable, element);\n",
              "          const docLink = document.createElement('div');\n",
              "          docLink.innerHTML = docLinkHtml;\n",
              "          element.appendChild(docLink);\n",
              "        }\n",
              "      </script>\n",
              "    </div>\n",
              "  </div>\n",
              "  "
            ],
            "text/plain": [
              "      Name    Location  Year  Kilometers_Driven  ... Engine  Power Seats  Price\n",
              "0   Maruti      Mumbai  2010              72000  ...    998  58.16   5.0   1.75\n",
              "1  Hyundai        Pune  2015              41000  ...   1582  126.2   5.0  12.50\n",
              "2    Honda     Chennai  2011              46000  ...   1199   88.7   5.0   4.50\n",
              "3   Maruti     Chennai  2012              87000  ...   1248  88.76   7.0   6.00\n",
              "4     Audi  Coimbatore  2013              40670  ...   1968  140.8   5.0  17.74\n",
              "\n",
              "[5 rows x 12 columns]"
            ]
          },
          "metadata": {},
          "execution_count": 24
        }
      ],
      "source": [
        "data.Mileage = data.Mileage.str.split().str.get(0).astype('float')\n",
        "data.Engine = data.Engine.str.split().str.get(0).astype('int', errors='ignore')\n",
        "data.Power = data.Power.str.split().str.get(0).astype('float', errors='ignore')\n",
        "data.head()\n"
      ]
    },
    {
      "cell_type": "markdown",
      "metadata": {
        "id": "i6ThAxYoDqZt"
      },
      "source": [
        "Performing label encoding for categorical data"
      ]
    },
    {
      "cell_type": "code",
      "execution_count": null,
      "metadata": {
        "id": "kBFZfkiVspFu"
      },
      "outputs": [],
      "source": [
        "from sklearn.preprocessing import LabelEncoder\n",
        "label_encoder = LabelEncoder()\n",
        "\n",
        "data['Name'] = label_encoder.fit_transform(data['Name'])\n",
        "data['Location'] = label_encoder.fit_transform(data['Location'])\n",
        "data['Transmission'] = label_encoder.fit_transform(data['Transmission'])\n",
        "data['Fuel_Type'] = label_encoder.fit_transform(data['Fuel_Type'])\n",
        "data['Owner_Type'] = label_encoder.fit_transform(data['Owner_Type'])"
      ]
    },
    {
      "cell_type": "markdown",
      "metadata": {
        "id": "bGdHxT_bDXDx"
      },
      "source": [
        "Applying log to price to normalise it"
      ]
    },
    {
      "cell_type": "code",
      "execution_count": null,
      "metadata": {
        "id": "U6p24iOm8_Mz"
      },
      "outputs": [],
      "source": [
        "data.Price = np.log1p(data.Price)"
      ]
    },
    {
      "cell_type": "code",
      "execution_count": null,
      "metadata": {
        "id": "FzjwYfRvmurA",
        "colab": {
          "base_uri": "https://localhost:8080/"
        },
        "outputId": "f4080c53-4b6d-449a-a687-de7eef8cd060"
      },
      "outputs": [
        {
          "output_type": "execute_result",
          "data": {
            "text/plain": [
              "Name                  0\n",
              "Location              0\n",
              "Year                  0\n",
              "Kilometers_Driven     0\n",
              "Fuel_Type             0\n",
              "Transmission          0\n",
              "Owner_Type            0\n",
              "Mileage               0\n",
              "Engine               36\n",
              "Power                36\n",
              "Seats                42\n",
              "Price                 0\n",
              "dtype: int64"
            ]
          },
          "metadata": {},
          "execution_count": 27
        }
      ],
      "source": [
        "data.isnull().sum()"
      ]
    },
    {
      "cell_type": "code",
      "execution_count": null,
      "metadata": {
        "id": "fAshMJls2ii6"
      },
      "outputs": [],
      "source": [
        "data.Engine = pd.to_numeric(data.Engine, errors='coerce')\n",
        "data.Power = pd.to_numeric(data.Power, errors='coerce')"
      ]
    },
    {
      "cell_type": "code",
      "execution_count": null,
      "metadata": {
        "id": "ksbNWJiC2mPP"
      },
      "outputs": [],
      "source": [
        "from sklearn.impute import SimpleImputer\n",
        "imputer = SimpleImputer(missing_values = np.nan, strategy ='mean')\n",
        "data[[\"Engine\", \"Power\", \"Seats\"]] = imputer.fit_transform(data[[\"Engine\", \"Power\", \"Seats\"]])"
      ]
    },
    {
      "cell_type": "code",
      "execution_count": null,
      "metadata": {
        "id": "AcojEdXM3yvU",
        "colab": {
          "base_uri": "https://localhost:8080/"
        },
        "outputId": "60c1d237-9d31-448b-a1e6-afe0c692aaca"
      },
      "outputs": [
        {
          "output_type": "execute_result",
          "data": {
            "text/plain": [
              "0"
            ]
          },
          "metadata": {},
          "execution_count": 30
        }
      ],
      "source": [
        "data.isnull().sum().sum()"
      ]
    },
    {
      "cell_type": "code",
      "execution_count": null,
      "metadata": {
        "id": "O76i_oe_n_o1",
        "colab": {
          "base_uri": "https://localhost:8080/",
          "height": 489
        },
        "outputId": "df3ea7d1-246c-4b11-da18-69da855898e9"
      },
      "outputs": [
        {
          "output_type": "execute_result",
          "data": {
            "text/html": [
              "\n",
              "  <div id=\"df-f3eaf0c9-6d04-442d-b392-bfcdbafb66e4\">\n",
              "    <div class=\"colab-df-container\">\n",
              "      <div>\n",
              "<style scoped>\n",
              "    .dataframe tbody tr th:only-of-type {\n",
              "        vertical-align: middle;\n",
              "    }\n",
              "\n",
              "    .dataframe tbody tr th {\n",
              "        vertical-align: top;\n",
              "    }\n",
              "\n",
              "    .dataframe thead th {\n",
              "        text-align: right;\n",
              "    }\n",
              "</style>\n",
              "<table border=\"1\" class=\"dataframe\">\n",
              "  <thead>\n",
              "    <tr style=\"text-align: right;\">\n",
              "      <th></th>\n",
              "      <th>Name</th>\n",
              "      <th>Location</th>\n",
              "      <th>Year</th>\n",
              "      <th>Kilometers_Driven</th>\n",
              "      <th>Fuel_Type</th>\n",
              "      <th>Transmission</th>\n",
              "      <th>Owner_Type</th>\n",
              "      <th>Mileage</th>\n",
              "      <th>Engine</th>\n",
              "      <th>Power</th>\n",
              "      <th>Seats</th>\n",
              "      <th>Price</th>\n",
              "    </tr>\n",
              "  </thead>\n",
              "  <tbody>\n",
              "    <tr>\n",
              "      <th>Name</th>\n",
              "      <td>1.000000</td>\n",
              "      <td>0.024777</td>\n",
              "      <td>0.013957</td>\n",
              "      <td>0.121956</td>\n",
              "      <td>-0.064763</td>\n",
              "      <td>0.162476</td>\n",
              "      <td>-0.025106</td>\n",
              "      <td>-0.024857</td>\n",
              "      <td>0.019435</td>\n",
              "      <td>-0.171210</td>\n",
              "      <td>0.179460</td>\n",
              "      <td>-0.104242</td>\n",
              "    </tr>\n",
              "    <tr>\n",
              "      <th>Location</th>\n",
              "      <td>0.024777</td>\n",
              "      <td>1.000000</td>\n",
              "      <td>-0.021806</td>\n",
              "      <td>-0.068880</td>\n",
              "      <td>0.112225</td>\n",
              "      <td>0.039766</td>\n",
              "      <td>-0.033430</td>\n",
              "      <td>0.018444</td>\n",
              "      <td>-0.077379</td>\n",
              "      <td>-0.064013</td>\n",
              "      <td>-0.037066</td>\n",
              "      <td>-0.137787</td>\n",
              "    </tr>\n",
              "    <tr>\n",
              "      <th>Year</th>\n",
              "      <td>0.013957</td>\n",
              "      <td>-0.021806</td>\n",
              "      <td>1.000000</td>\n",
              "      <td>-0.479309</td>\n",
              "      <td>-0.131113</td>\n",
              "      <td>-0.098072</td>\n",
              "      <td>-0.384746</td>\n",
              "      <td>0.321657</td>\n",
              "      <td>-0.049444</td>\n",
              "      <td>0.017514</td>\n",
              "      <td>0.010475</td>\n",
              "      <td>0.475801</td>\n",
              "    </tr>\n",
              "    <tr>\n",
              "      <th>Kilometers_Driven</th>\n",
              "      <td>0.121956</td>\n",
              "      <td>-0.068880</td>\n",
              "      <td>-0.479309</td>\n",
              "      <td>1.000000</td>\n",
              "      <td>-0.235727</td>\n",
              "      <td>0.117427</td>\n",
              "      <td>0.226469</td>\n",
              "      <td>-0.160348</td>\n",
              "      <td>0.171469</td>\n",
              "      <td>0.006489</td>\n",
              "      <td>0.231611</td>\n",
              "      <td>-0.198334</td>\n",
              "    </tr>\n",
              "    <tr>\n",
              "      <th>Fuel_Type</th>\n",
              "      <td>-0.064763</td>\n",
              "      <td>0.112225</td>\n",
              "      <td>-0.131113</td>\n",
              "      <td>-0.235727</td>\n",
              "      <td>1.000000</td>\n",
              "      <td>0.122351</td>\n",
              "      <td>0.043111</td>\n",
              "      <td>-0.159193</td>\n",
              "      <td>-0.399828</td>\n",
              "      <td>-0.263787</td>\n",
              "      <td>-0.295476</td>\n",
              "      <td>-0.405444</td>\n",
              "    </tr>\n",
              "    <tr>\n",
              "      <th>Transmission</th>\n",
              "      <td>0.162476</td>\n",
              "      <td>0.039766</td>\n",
              "      <td>-0.098072</td>\n",
              "      <td>0.117427</td>\n",
              "      <td>0.122351</td>\n",
              "      <td>1.000000</td>\n",
              "      <td>0.003558</td>\n",
              "      <td>0.332546</td>\n",
              "      <td>-0.501672</td>\n",
              "      <td>-0.643594</td>\n",
              "      <td>0.072891</td>\n",
              "      <td>-0.632798</td>\n",
              "    </tr>\n",
              "    <tr>\n",
              "      <th>Owner_Type</th>\n",
              "      <td>-0.025106</td>\n",
              "      <td>-0.033430</td>\n",
              "      <td>-0.384746</td>\n",
              "      <td>0.226469</td>\n",
              "      <td>0.043111</td>\n",
              "      <td>0.003558</td>\n",
              "      <td>1.000000</td>\n",
              "      <td>-0.152090</td>\n",
              "      <td>0.047381</td>\n",
              "      <td>0.026064</td>\n",
              "      <td>0.007447</td>\n",
              "      <td>-0.175652</td>\n",
              "    </tr>\n",
              "    <tr>\n",
              "      <th>Mileage</th>\n",
              "      <td>-0.024857</td>\n",
              "      <td>0.018444</td>\n",
              "      <td>0.321657</td>\n",
              "      <td>-0.160348</td>\n",
              "      <td>-0.159193</td>\n",
              "      <td>0.332546</td>\n",
              "      <td>-0.152090</td>\n",
              "      <td>1.000000</td>\n",
              "      <td>-0.589779</td>\n",
              "      <td>-0.507243</td>\n",
              "      <td>-0.310045</td>\n",
              "      <td>-0.276737</td>\n",
              "    </tr>\n",
              "    <tr>\n",
              "      <th>Engine</th>\n",
              "      <td>0.019435</td>\n",
              "      <td>-0.077379</td>\n",
              "      <td>-0.049444</td>\n",
              "      <td>0.171469</td>\n",
              "      <td>-0.399828</td>\n",
              "      <td>-0.501672</td>\n",
              "      <td>0.047381</td>\n",
              "      <td>-0.589779</td>\n",
              "      <td>1.000000</td>\n",
              "      <td>0.857017</td>\n",
              "      <td>0.402472</td>\n",
              "      <td>0.697288</td>\n",
              "    </tr>\n",
              "    <tr>\n",
              "      <th>Power</th>\n",
              "      <td>-0.171210</td>\n",
              "      <td>-0.064013</td>\n",
              "      <td>0.017514</td>\n",
              "      <td>0.006489</td>\n",
              "      <td>-0.263787</td>\n",
              "      <td>-0.643594</td>\n",
              "      <td>0.026064</td>\n",
              "      <td>-0.507243</td>\n",
              "      <td>0.857017</td>\n",
              "      <td>1.000000</td>\n",
              "      <td>0.109026</td>\n",
              "      <td>0.772817</td>\n",
              "    </tr>\n",
              "    <tr>\n",
              "      <th>Seats</th>\n",
              "      <td>0.179460</td>\n",
              "      <td>-0.037066</td>\n",
              "      <td>0.010475</td>\n",
              "      <td>0.231611</td>\n",
              "      <td>-0.295476</td>\n",
              "      <td>0.072891</td>\n",
              "      <td>0.007447</td>\n",
              "      <td>-0.310045</td>\n",
              "      <td>0.402472</td>\n",
              "      <td>0.109026</td>\n",
              "      <td>1.000000</td>\n",
              "      <td>0.158026</td>\n",
              "    </tr>\n",
              "    <tr>\n",
              "      <th>Price</th>\n",
              "      <td>-0.104242</td>\n",
              "      <td>-0.137787</td>\n",
              "      <td>0.475801</td>\n",
              "      <td>-0.198334</td>\n",
              "      <td>-0.405444</td>\n",
              "      <td>-0.632798</td>\n",
              "      <td>-0.175652</td>\n",
              "      <td>-0.276737</td>\n",
              "      <td>0.697288</td>\n",
              "      <td>0.772817</td>\n",
              "      <td>0.158026</td>\n",
              "      <td>1.000000</td>\n",
              "    </tr>\n",
              "  </tbody>\n",
              "</table>\n",
              "</div>\n",
              "      <button class=\"colab-df-convert\" onclick=\"convertToInteractive('df-f3eaf0c9-6d04-442d-b392-bfcdbafb66e4')\"\n",
              "              title=\"Convert this dataframe to an interactive table.\"\n",
              "              style=\"display:none;\">\n",
              "        \n",
              "  <svg xmlns=\"http://www.w3.org/2000/svg\" height=\"24px\"viewBox=\"0 0 24 24\"\n",
              "       width=\"24px\">\n",
              "    <path d=\"M0 0h24v24H0V0z\" fill=\"none\"/>\n",
              "    <path d=\"M18.56 5.44l.94 2.06.94-2.06 2.06-.94-2.06-.94-.94-2.06-.94 2.06-2.06.94zm-11 1L8.5 8.5l.94-2.06 2.06-.94-2.06-.94L8.5 2.5l-.94 2.06-2.06.94zm10 10l.94 2.06.94-2.06 2.06-.94-2.06-.94-.94-2.06-.94 2.06-2.06.94z\"/><path d=\"M17.41 7.96l-1.37-1.37c-.4-.4-.92-.59-1.43-.59-.52 0-1.04.2-1.43.59L10.3 9.45l-7.72 7.72c-.78.78-.78 2.05 0 2.83L4 21.41c.39.39.9.59 1.41.59.51 0 1.02-.2 1.41-.59l7.78-7.78 2.81-2.81c.8-.78.8-2.07 0-2.86zM5.41 20L4 18.59l7.72-7.72 1.47 1.35L5.41 20z\"/>\n",
              "  </svg>\n",
              "      </button>\n",
              "      \n",
              "  <style>\n",
              "    .colab-df-container {\n",
              "      display:flex;\n",
              "      flex-wrap:wrap;\n",
              "      gap: 12px;\n",
              "    }\n",
              "\n",
              "    .colab-df-convert {\n",
              "      background-color: #E8F0FE;\n",
              "      border: none;\n",
              "      border-radius: 50%;\n",
              "      cursor: pointer;\n",
              "      display: none;\n",
              "      fill: #1967D2;\n",
              "      height: 32px;\n",
              "      padding: 0 0 0 0;\n",
              "      width: 32px;\n",
              "    }\n",
              "\n",
              "    .colab-df-convert:hover {\n",
              "      background-color: #E2EBFA;\n",
              "      box-shadow: 0px 1px 2px rgba(60, 64, 67, 0.3), 0px 1px 3px 1px rgba(60, 64, 67, 0.15);\n",
              "      fill: #174EA6;\n",
              "    }\n",
              "\n",
              "    [theme=dark] .colab-df-convert {\n",
              "      background-color: #3B4455;\n",
              "      fill: #D2E3FC;\n",
              "    }\n",
              "\n",
              "    [theme=dark] .colab-df-convert:hover {\n",
              "      background-color: #434B5C;\n",
              "      box-shadow: 0px 1px 3px 1px rgba(0, 0, 0, 0.15);\n",
              "      filter: drop-shadow(0px 1px 2px rgba(0, 0, 0, 0.3));\n",
              "      fill: #FFFFFF;\n",
              "    }\n",
              "  </style>\n",
              "\n",
              "      <script>\n",
              "        const buttonEl =\n",
              "          document.querySelector('#df-f3eaf0c9-6d04-442d-b392-bfcdbafb66e4 button.colab-df-convert');\n",
              "        buttonEl.style.display =\n",
              "          google.colab.kernel.accessAllowed ? 'block' : 'none';\n",
              "\n",
              "        async function convertToInteractive(key) {\n",
              "          const element = document.querySelector('#df-f3eaf0c9-6d04-442d-b392-bfcdbafb66e4');\n",
              "          const dataTable =\n",
              "            await google.colab.kernel.invokeFunction('convertToInteractive',\n",
              "                                                     [key], {});\n",
              "          if (!dataTable) return;\n",
              "\n",
              "          const docLinkHtml = 'Like what you see? Visit the ' +\n",
              "            '<a target=\"_blank\" href=https://colab.research.google.com/notebooks/data_table.ipynb>data table notebook</a>'\n",
              "            + ' to learn more about interactive tables.';\n",
              "          element.innerHTML = '';\n",
              "          dataTable['output_type'] = 'display_data';\n",
              "          await google.colab.output.renderOutput(dataTable, element);\n",
              "          const docLink = document.createElement('div');\n",
              "          docLink.innerHTML = docLinkHtml;\n",
              "          element.appendChild(docLink);\n",
              "        }\n",
              "      </script>\n",
              "    </div>\n",
              "  </div>\n",
              "  "
            ],
            "text/plain": [
              "                       Name  Location      Year  ...     Power     Seats     Price\n",
              "Name               1.000000  0.024777  0.013957  ... -0.171210  0.179460 -0.104242\n",
              "Location           0.024777  1.000000 -0.021806  ... -0.064013 -0.037066 -0.137787\n",
              "Year               0.013957 -0.021806  1.000000  ...  0.017514  0.010475  0.475801\n",
              "Kilometers_Driven  0.121956 -0.068880 -0.479309  ...  0.006489  0.231611 -0.198334\n",
              "Fuel_Type         -0.064763  0.112225 -0.131113  ... -0.263787 -0.295476 -0.405444\n",
              "Transmission       0.162476  0.039766 -0.098072  ... -0.643594  0.072891 -0.632798\n",
              "Owner_Type        -0.025106 -0.033430 -0.384746  ...  0.026064  0.007447 -0.175652\n",
              "Mileage           -0.024857  0.018444  0.321657  ... -0.507243 -0.310045 -0.276737\n",
              "Engine             0.019435 -0.077379 -0.049444  ...  0.857017  0.402472  0.697288\n",
              "Power             -0.171210 -0.064013  0.017514  ...  1.000000  0.109026  0.772817\n",
              "Seats              0.179460 -0.037066  0.010475  ...  0.109026  1.000000  0.158026\n",
              "Price             -0.104242 -0.137787  0.475801  ...  0.772817  0.158026  1.000000\n",
              "\n",
              "[12 rows x 12 columns]"
            ]
          },
          "metadata": {},
          "execution_count": 31
        }
      ],
      "source": [
        "data.corr()"
      ]
    },
    {
      "cell_type": "code",
      "execution_count": null,
      "metadata": {
        "id": "3Oorf_2nlqJv"
      },
      "outputs": [],
      "source": [
        ""
      ]
    },
    {
      "cell_type": "markdown",
      "metadata": {
        "id": "m-adM7kE2hVf"
      },
      "source": [
        "# Data Model Building\n"
      ]
    },
    {
      "cell_type": "markdown",
      "metadata": {
        "id": "FHFuQJEfQhJ7"
      },
      "source": [
        "# **LINEAR REGRESSION**"
      ]
    },
    {
      "cell_type": "code",
      "execution_count": null,
      "metadata": {
        "id": "jLBMdauu2gtl"
      },
      "outputs": [],
      "source": [
        "from sklearn.linear_model import LinearRegression\n",
        "from sklearn.model_selection import train_test_split\n",
        "from sklearn import metrics\n",
        "\n",
        "\n",
        "X=data.drop(['Price'],axis=1)\n",
        "y=data['Price']\n",
        "\n",
        "X_train, X_test, y_train, y_test = train_test_split(X, y, test_size=0.2, random_state=4)"
      ]
    },
    {
      "cell_type": "code",
      "execution_count": null,
      "metadata": {
        "id": "3jQSl2SC290g"
      },
      "outputs": [],
      "source": [
        "LR_model = LinearRegression()\n",
        "LR_model.fit(X_train, y_train)\n",
        "y_pred = LR_model.predict(X_test)"
      ]
    },
    {
      "cell_type": "code",
      "execution_count": null,
      "metadata": {
        "id": "Qkayi3m25UsL",
        "colab": {
          "base_uri": "https://localhost:8080/"
        },
        "outputId": "1503cd07-bf67-4092-837b-69a916728069"
      },
      "outputs": [
        {
          "output_type": "stream",
          "name": "stdout",
          "text": [
            "0.8665628706716398\n"
          ]
        }
      ],
      "source": [
        "print(LR_model.score(X_test,y_test))"
      ]
    },
    {
      "cell_type": "code",
      "source": [
        "X_test=['Mumbai']"
      ],
      "metadata": {
        "id": "9tzXWKSDsFhC"
      },
      "execution_count": null,
      "outputs": []
    },
    {
      "cell_type": "code",
      "source": [
        "model.predict(X_test).shape"
      ],
      "metadata": {
        "colab": {
          "base_uri": "https://localhost:8080/",
          "height": 367
        },
        "id": "cfhYx7k7sDBK",
        "outputId": "719ad0d9-559f-4951-886f-0cd8d3cf11ab"
      },
      "execution_count": null,
      "outputs": [
        {
          "output_type": "stream",
          "name": "stderr",
          "text": [
            "/usr/local/lib/python3.7/dist-packages/sklearn/base.py:446: UserWarning: X does not have valid feature names, but RandomForestRegressor was fitted with feature names\n",
            "  \"X does not have valid feature names, but\"\n"
          ]
        },
        {
          "output_type": "error",
          "ename": "ValueError",
          "evalue": "ignored",
          "traceback": [
            "\u001b[0;31m---------------------------------------------------------------------------\u001b[0m",
            "\u001b[0;31mValueError\u001b[0m                                Traceback (most recent call last)",
            "\u001b[0;32m<ipython-input-78-ff1744efa1c0>\u001b[0m in \u001b[0;36m<module>\u001b[0;34m()\u001b[0m\n\u001b[0;32m----> 1\u001b[0;31m \u001b[0mmodel\u001b[0m\u001b[0;34m.\u001b[0m\u001b[0mpredict\u001b[0m\u001b[0;34m(\u001b[0m\u001b[0mX_test\u001b[0m\u001b[0;34m)\u001b[0m\u001b[0;34m.\u001b[0m\u001b[0mshape\u001b[0m\u001b[0;34m\u001b[0m\u001b[0;34m\u001b[0m\u001b[0m\n\u001b[0m",
            "\u001b[0;32m/usr/local/lib/python3.7/dist-packages/sklearn/ensemble/_forest.py\u001b[0m in \u001b[0;36mpredict\u001b[0;34m(self, X)\u001b[0m\n\u001b[1;32m    959\u001b[0m         \u001b[0mcheck_is_fitted\u001b[0m\u001b[0;34m(\u001b[0m\u001b[0mself\u001b[0m\u001b[0;34m)\u001b[0m\u001b[0;34m\u001b[0m\u001b[0;34m\u001b[0m\u001b[0m\n\u001b[1;32m    960\u001b[0m         \u001b[0;31m# Check data\u001b[0m\u001b[0;34m\u001b[0m\u001b[0;34m\u001b[0m\u001b[0;34m\u001b[0m\u001b[0m\n\u001b[0;32m--> 961\u001b[0;31m         \u001b[0mX\u001b[0m \u001b[0;34m=\u001b[0m \u001b[0mself\u001b[0m\u001b[0;34m.\u001b[0m\u001b[0m_validate_X_predict\u001b[0m\u001b[0;34m(\u001b[0m\u001b[0mX\u001b[0m\u001b[0;34m)\u001b[0m\u001b[0;34m\u001b[0m\u001b[0;34m\u001b[0m\u001b[0m\n\u001b[0m\u001b[1;32m    962\u001b[0m \u001b[0;34m\u001b[0m\u001b[0m\n\u001b[1;32m    963\u001b[0m         \u001b[0;31m# Assign chunk of trees to jobs\u001b[0m\u001b[0;34m\u001b[0m\u001b[0;34m\u001b[0m\u001b[0;34m\u001b[0m\u001b[0m\n",
            "\u001b[0;32m/usr/local/lib/python3.7/dist-packages/sklearn/ensemble/_forest.py\u001b[0m in \u001b[0;36m_validate_X_predict\u001b[0;34m(self, X)\u001b[0m\n\u001b[1;32m    567\u001b[0m         Validate X whenever one tries to predict, apply, predict_proba.\"\"\"\n\u001b[1;32m    568\u001b[0m         \u001b[0mcheck_is_fitted\u001b[0m\u001b[0;34m(\u001b[0m\u001b[0mself\u001b[0m\u001b[0;34m)\u001b[0m\u001b[0;34m\u001b[0m\u001b[0;34m\u001b[0m\u001b[0m\n\u001b[0;32m--> 569\u001b[0;31m         \u001b[0mX\u001b[0m \u001b[0;34m=\u001b[0m \u001b[0mself\u001b[0m\u001b[0;34m.\u001b[0m\u001b[0m_validate_data\u001b[0m\u001b[0;34m(\u001b[0m\u001b[0mX\u001b[0m\u001b[0;34m,\u001b[0m \u001b[0mdtype\u001b[0m\u001b[0;34m=\u001b[0m\u001b[0mDTYPE\u001b[0m\u001b[0;34m,\u001b[0m \u001b[0maccept_sparse\u001b[0m\u001b[0;34m=\u001b[0m\u001b[0;34m\"csr\"\u001b[0m\u001b[0;34m,\u001b[0m \u001b[0mreset\u001b[0m\u001b[0;34m=\u001b[0m\u001b[0;32mFalse\u001b[0m\u001b[0;34m)\u001b[0m\u001b[0;34m\u001b[0m\u001b[0;34m\u001b[0m\u001b[0m\n\u001b[0m\u001b[1;32m    570\u001b[0m         \u001b[0;32mif\u001b[0m \u001b[0missparse\u001b[0m\u001b[0;34m(\u001b[0m\u001b[0mX\u001b[0m\u001b[0;34m)\u001b[0m \u001b[0;32mand\u001b[0m \u001b[0;34m(\u001b[0m\u001b[0mX\u001b[0m\u001b[0;34m.\u001b[0m\u001b[0mindices\u001b[0m\u001b[0;34m.\u001b[0m\u001b[0mdtype\u001b[0m \u001b[0;34m!=\u001b[0m \u001b[0mnp\u001b[0m\u001b[0;34m.\u001b[0m\u001b[0mintc\u001b[0m \u001b[0;32mor\u001b[0m \u001b[0mX\u001b[0m\u001b[0;34m.\u001b[0m\u001b[0mindptr\u001b[0m\u001b[0;34m.\u001b[0m\u001b[0mdtype\u001b[0m \u001b[0;34m!=\u001b[0m \u001b[0mnp\u001b[0m\u001b[0;34m.\u001b[0m\u001b[0mintc\u001b[0m\u001b[0;34m)\u001b[0m\u001b[0;34m:\u001b[0m\u001b[0;34m\u001b[0m\u001b[0;34m\u001b[0m\u001b[0m\n\u001b[1;32m    571\u001b[0m             \u001b[0;32mraise\u001b[0m \u001b[0mValueError\u001b[0m\u001b[0;34m(\u001b[0m\u001b[0;34m\"No support for np.int64 index based sparse matrices\"\u001b[0m\u001b[0;34m)\u001b[0m\u001b[0;34m\u001b[0m\u001b[0;34m\u001b[0m\u001b[0m\n",
            "\u001b[0;32m/usr/local/lib/python3.7/dist-packages/sklearn/base.py\u001b[0m in \u001b[0;36m_validate_data\u001b[0;34m(self, X, y, reset, validate_separately, **check_params)\u001b[0m\n\u001b[1;32m    559\u001b[0m             \u001b[0;32mraise\u001b[0m \u001b[0mValueError\u001b[0m\u001b[0;34m(\u001b[0m\u001b[0;34m\"Validation should be done on X, y or both.\"\u001b[0m\u001b[0;34m)\u001b[0m\u001b[0;34m\u001b[0m\u001b[0;34m\u001b[0m\u001b[0m\n\u001b[1;32m    560\u001b[0m         \u001b[0;32melif\u001b[0m \u001b[0;32mnot\u001b[0m \u001b[0mno_val_X\u001b[0m \u001b[0;32mand\u001b[0m \u001b[0mno_val_y\u001b[0m\u001b[0;34m:\u001b[0m\u001b[0;34m\u001b[0m\u001b[0;34m\u001b[0m\u001b[0m\n\u001b[0;32m--> 561\u001b[0;31m             \u001b[0mX\u001b[0m \u001b[0;34m=\u001b[0m \u001b[0mcheck_array\u001b[0m\u001b[0;34m(\u001b[0m\u001b[0mX\u001b[0m\u001b[0;34m,\u001b[0m \u001b[0;34m**\u001b[0m\u001b[0mcheck_params\u001b[0m\u001b[0;34m)\u001b[0m\u001b[0;34m\u001b[0m\u001b[0;34m\u001b[0m\u001b[0m\n\u001b[0m\u001b[1;32m    562\u001b[0m             \u001b[0mout\u001b[0m \u001b[0;34m=\u001b[0m \u001b[0mX\u001b[0m\u001b[0;34m\u001b[0m\u001b[0;34m\u001b[0m\u001b[0m\n\u001b[1;32m    563\u001b[0m         \u001b[0;32melif\u001b[0m \u001b[0mno_val_X\u001b[0m \u001b[0;32mand\u001b[0m \u001b[0;32mnot\u001b[0m \u001b[0mno_val_y\u001b[0m\u001b[0;34m:\u001b[0m\u001b[0;34m\u001b[0m\u001b[0;34m\u001b[0m\u001b[0m\n",
            "\u001b[0;32m/usr/local/lib/python3.7/dist-packages/sklearn/utils/validation.py\u001b[0m in \u001b[0;36mcheck_array\u001b[0;34m(array, accept_sparse, accept_large_sparse, dtype, order, copy, force_all_finite, ensure_2d, allow_nd, ensure_min_samples, ensure_min_features, estimator)\u001b[0m\n\u001b[1;32m    736\u001b[0m                     \u001b[0marray\u001b[0m \u001b[0;34m=\u001b[0m \u001b[0marray\u001b[0m\u001b[0;34m.\u001b[0m\u001b[0mastype\u001b[0m\u001b[0;34m(\u001b[0m\u001b[0mdtype\u001b[0m\u001b[0;34m,\u001b[0m \u001b[0mcasting\u001b[0m\u001b[0;34m=\u001b[0m\u001b[0;34m\"unsafe\"\u001b[0m\u001b[0;34m,\u001b[0m \u001b[0mcopy\u001b[0m\u001b[0;34m=\u001b[0m\u001b[0;32mFalse\u001b[0m\u001b[0;34m)\u001b[0m\u001b[0;34m\u001b[0m\u001b[0;34m\u001b[0m\u001b[0m\n\u001b[1;32m    737\u001b[0m                 \u001b[0;32melse\u001b[0m\u001b[0;34m:\u001b[0m\u001b[0;34m\u001b[0m\u001b[0;34m\u001b[0m\u001b[0m\n\u001b[0;32m--> 738\u001b[0;31m                     \u001b[0marray\u001b[0m \u001b[0;34m=\u001b[0m \u001b[0mnp\u001b[0m\u001b[0;34m.\u001b[0m\u001b[0masarray\u001b[0m\u001b[0;34m(\u001b[0m\u001b[0marray\u001b[0m\u001b[0;34m,\u001b[0m \u001b[0morder\u001b[0m\u001b[0;34m=\u001b[0m\u001b[0morder\u001b[0m\u001b[0;34m,\u001b[0m \u001b[0mdtype\u001b[0m\u001b[0;34m=\u001b[0m\u001b[0mdtype\u001b[0m\u001b[0;34m)\u001b[0m\u001b[0;34m\u001b[0m\u001b[0;34m\u001b[0m\u001b[0m\n\u001b[0m\u001b[1;32m    739\u001b[0m             \u001b[0;32mexcept\u001b[0m \u001b[0mComplexWarning\u001b[0m \u001b[0;32mas\u001b[0m \u001b[0mcomplex_warning\u001b[0m\u001b[0;34m:\u001b[0m\u001b[0;34m\u001b[0m\u001b[0;34m\u001b[0m\u001b[0m\n\u001b[1;32m    740\u001b[0m                 raise ValueError(\n",
            "\u001b[0;32m/usr/local/lib/python3.7/dist-packages/numpy/core/_asarray.py\u001b[0m in \u001b[0;36masarray\u001b[0;34m(a, dtype, order)\u001b[0m\n\u001b[1;32m     81\u001b[0m \u001b[0;34m\u001b[0m\u001b[0m\n\u001b[1;32m     82\u001b[0m     \"\"\"\n\u001b[0;32m---> 83\u001b[0;31m     \u001b[0;32mreturn\u001b[0m \u001b[0marray\u001b[0m\u001b[0;34m(\u001b[0m\u001b[0ma\u001b[0m\u001b[0;34m,\u001b[0m \u001b[0mdtype\u001b[0m\u001b[0;34m,\u001b[0m \u001b[0mcopy\u001b[0m\u001b[0;34m=\u001b[0m\u001b[0;32mFalse\u001b[0m\u001b[0;34m,\u001b[0m \u001b[0morder\u001b[0m\u001b[0;34m=\u001b[0m\u001b[0morder\u001b[0m\u001b[0;34m)\u001b[0m\u001b[0;34m\u001b[0m\u001b[0;34m\u001b[0m\u001b[0m\n\u001b[0m\u001b[1;32m     84\u001b[0m \u001b[0;34m\u001b[0m\u001b[0m\n\u001b[1;32m     85\u001b[0m \u001b[0;34m\u001b[0m\u001b[0m\n",
            "\u001b[0;31mValueError\u001b[0m: could not convert string to float: 'Mumbai'"
          ]
        }
      ]
    },
    {
      "cell_type": "code",
      "execution_count": null,
      "metadata": {
        "id": "JOA1vMkKzo2_",
        "colab": {
          "base_uri": "https://localhost:8080/"
        },
        "outputId": "35fd8231-a485-4a80-db28-2deddba73958"
      },
      "outputs": [
        {
          "output_type": "stream",
          "name": "stdout",
          "text": [
            "Mean Absolute Error: 0.20529996145308088\n",
            "Mean Squared Error: 0.07236931263290768\n",
            "Root Mean Squared Error: 0.26901545054681836\n",
            "R2 score : 0.866563\n"
          ]
        }
      ],
      "source": [
        "from sklearn import metrics\n",
        "from sklearn.metrics import r2_score\n",
        "\n",
        "print('Mean Absolute Error:', metrics.mean_absolute_error(y_test, y_pred))\n",
        "print('Mean Squared Error:', metrics.mean_squared_error(y_test, y_pred))\n",
        "print('Root Mean Squared Error:', np.sqrt(metrics.mean_squared_error(y_test, y_pred)))\n",
        "print(\"R2 score : %f\" % r2_score(y_test,y_pred))"
      ]
    },
    {
      "cell_type": "markdown",
      "metadata": {
        "id": "z5E-iV5j-MZ2"
      },
      "source": [
        "**Cross Validation**"
      ]
    },
    {
      "cell_type": "code",
      "execution_count": null,
      "metadata": {
        "id": "EkoHs6t4-LhF"
      },
      "outputs": [],
      "source": [
        "from sklearn.model_selection import cross_val_score\n",
        "\n",
        "cv_results=cross_val_score(LR_model,X,y,cv=10)"
      ]
    },
    {
      "cell_type": "code",
      "execution_count": null,
      "metadata": {
        "id": "xzWQlsP7_qJB",
        "colab": {
          "base_uri": "https://localhost:8080/"
        },
        "outputId": "8041d1a1-826c-46fe-ac08-258631d08257"
      },
      "outputs": [
        {
          "output_type": "stream",
          "name": "stdout",
          "text": [
            "[0.87427459 0.87396366 0.86758811 0.86525723 0.88143146 0.83457205\n",
            " 0.86970425 0.87021835 0.86511741 0.88560568]\n"
          ]
        }
      ],
      "source": [
        "print(cv_results)"
      ]
    },
    {
      "cell_type": "code",
      "execution_count": null,
      "metadata": {
        "id": "l2MBhkh6A3yt",
        "colab": {
          "base_uri": "https://localhost:8080/"
        },
        "outputId": "350153c4-cfa7-4f84-e066-665e09ae8158"
      },
      "outputs": [
        {
          "output_type": "stream",
          "name": "stdout",
          "text": [
            "Accuracy by cross validation :  0.8687732796288777\n"
          ]
        }
      ],
      "source": [
        "print(\"Accuracy by cross validation : \",cv_results.mean())"
      ]
    },
    {
      "cell_type": "markdown",
      "metadata": {
        "id": "jKqakFGwAJOY"
      },
      "source": [
        "# **DECISION TREE REGRESSION**"
      ]
    },
    {
      "cell_type": "code",
      "execution_count": null,
      "metadata": {
        "id": "FHaOyo4WAJ2X",
        "colab": {
          "base_uri": "https://localhost:8080/"
        },
        "outputId": "d8798936-a806-435f-b731-9aee80ff31ff"
      },
      "outputs": [
        {
          "output_type": "execute_result",
          "data": {
            "text/plain": [
              "DecisionTreeRegressor(random_state=0)"
            ]
          },
          "metadata": {},
          "execution_count": 39
        }
      ],
      "source": [
        "from sklearn.tree import DecisionTreeRegressor \n",
        "#Decision\n",
        "\n",
        "DT_model = DecisionTreeRegressor(random_state = 0) \n",
        "\n",
        "DT_model.fit(X_train,y_train)"
      ]
    },
    {
      "cell_type": "code",
      "execution_count": null,
      "metadata": {
        "id": "JCCMkpYmANfJ"
      },
      "outputs": [],
      "source": [
        "y1_pred = DT_model.predict(X_test)"
      ]
    },
    {
      "cell_type": "code",
      "execution_count": null,
      "metadata": {
        "id": "K5RhvCX0AQCC",
        "colab": {
          "base_uri": "https://localhost:8080/"
        },
        "outputId": "3517f4c6-a7f1-4c4e-f48f-3de092c82f2f"
      },
      "outputs": [
        {
          "output_type": "stream",
          "name": "stdout",
          "text": [
            "0.867886534322946\n"
          ]
        }
      ],
      "source": [
        "print(DT_model.score(X_test,y_test))"
      ]
    },
    {
      "cell_type": "code",
      "execution_count": null,
      "metadata": {
        "id": "_u2BsDiYASU2",
        "colab": {
          "base_uri": "https://localhost:8080/"
        },
        "outputId": "eb682708-0bb6-48b6-c856-9cedfe007d14"
      },
      "outputs": [
        {
          "output_type": "stream",
          "name": "stdout",
          "text": [
            "Mean Absolute Error: 0.17959142292136213\n",
            "Mean Squared Error: 0.07165142677097136\n",
            "Root Mean Squared Error: 0.26767784138955425\n",
            "R2 score : 0.867887\n"
          ]
        }
      ],
      "source": [
        "print('Mean Absolute Error:', metrics.mean_absolute_error(y_test, y1_pred))\n",
        "print('Mean Squared Error:', metrics.mean_squared_error(y_test, y1_pred))\n",
        "print('Root Mean Squared Error:', np.sqrt(metrics.mean_squared_error(y_test, y1_pred)))\n",
        "print(\"R2 score : %f\" % r2_score(y_test,y1_pred))"
      ]
    },
    {
      "cell_type": "markdown",
      "metadata": {
        "id": "aNVONAkPAVOW"
      },
      "source": [
        "**CROSS VALIDATION**"
      ]
    },
    {
      "cell_type": "code",
      "execution_count": null,
      "metadata": {
        "id": "InT9oJqgAWPJ",
        "colab": {
          "base_uri": "https://localhost:8080/"
        },
        "outputId": "80c5d910-bd00-41db-c531-8c7e73f2090f"
      },
      "outputs": [
        {
          "output_type": "stream",
          "name": "stdout",
          "text": [
            "[0.91105393 0.92214003 0.8782516  0.84718586 0.81949337 0.84528015\n",
            " 0.9025516  0.91820066 0.92682171 0.85866878 0.8007082  0.86288382\n",
            " 0.87381469 0.8477645  0.90676171 0.91937861 0.91104811 0.86187393\n",
            " 0.90208204 0.87333321]\n"
          ]
        }
      ],
      "source": [
        "cv_results1=cross_val_score(DT_model,X,y,cv=20)\n",
        "print(cv_results1)"
      ]
    },
    {
      "cell_type": "code",
      "execution_count": null,
      "metadata": {
        "id": "3knInaX8AZD_",
        "colab": {
          "base_uri": "https://localhost:8080/"
        },
        "outputId": "cf1448d3-ae2b-4603-cea4-ed8abebfc5f4"
      },
      "outputs": [
        {
          "output_type": "stream",
          "name": "stdout",
          "text": [
            "Accuracy by cross validation :  0.8794648250556284\n"
          ]
        }
      ],
      "source": [
        "print(\"Accuracy by cross validation : \",cv_results1.mean())"
      ]
    },
    {
      "cell_type": "markdown",
      "metadata": {
        "id": "QsI5PLRUvQuc"
      },
      "source": [
        "# **RANDOM FOREST REGRESSOR**"
      ]
    },
    {
      "cell_type": "code",
      "execution_count": null,
      "metadata": {
        "id": "bj2rz8FXvWt6"
      },
      "outputs": [],
      "source": [
        "from sklearn.ensemble import RandomForestRegressor\n",
        "from sklearn.model_selection import train_test_split\n",
        "from sklearn import metrics\n",
        "\n",
        "\n",
        "#X=data.drop(['Price'],axis=1)\n",
        "#y=data['Price']\n",
        "\n",
        "X_train, X_test, y_train, y_test = train_test_split(X, y, test_size=0.2, random_state=4)"
      ]
    },
    {
      "cell_type": "code",
      "execution_count": null,
      "metadata": {
        "id": "MjN26rh9v25-"
      },
      "outputs": [],
      "source": [
        "model = RandomForestRegressor(n_estimators=500)\n",
        "model.fit(X_train, y_train)\n",
        "y_pred = model.predict(X_test)"
      ]
    },
    {
      "cell_type": "code",
      "execution_count": null,
      "metadata": {
        "id": "-oCO_2mrv6YD",
        "colab": {
          "base_uri": "https://localhost:8080/"
        },
        "outputId": "12cf446b-596a-4333-b5c7-3b2a7ad2a347"
      },
      "outputs": [
        {
          "output_type": "execute_result",
          "data": {
            "text/plain": [
              "0.9298851785648025"
            ]
          },
          "metadata": {},
          "execution_count": 47
        }
      ],
      "source": [
        "model.score(X_test,y_test)"
      ]
    },
    {
      "cell_type": "code",
      "execution_count": null,
      "metadata": {
        "id": "bmgOvCl0wAWB",
        "colab": {
          "base_uri": "https://localhost:8080/"
        },
        "outputId": "211f4829-0e61-4338-bcb6-0b03c99eb21f"
      },
      "outputs": [
        {
          "output_type": "stream",
          "name": "stdout",
          "text": [
            "Mean Absolute Error: 0.13055230685304747\n",
            "Mean Squared Error: 0.038026608172586546\n",
            "Root Mean Squared Error: 0.1950041234758551\n",
            "R2 score : 0.929885\n"
          ]
        }
      ],
      "source": [
        "from sklearn import metrics\n",
        "from sklearn.metrics import r2_score\n",
        "\n",
        "print('Mean Absolute Error:', metrics.mean_absolute_error(y_test, y_pred))\n",
        "print('Mean Squared Error:', metrics.mean_squared_error(y_test, y_pred))\n",
        "print('Root Mean Squared Error:', np.sqrt(metrics.mean_squared_error(y_test, y_pred)))\n",
        "print(\"R2 score : %f\" % r2_score(y_test,y_pred))"
      ]
    },
    {
      "cell_type": "markdown",
      "metadata": {
        "id": "ybCg9koMwLau"
      },
      "source": [
        "**Cross Validation**"
      ]
    },
    {
      "cell_type": "code",
      "execution_count": null,
      "metadata": {
        "id": "OuiGCv56wORP"
      },
      "outputs": [],
      "source": [
        "from sklearn.model_selection import cross_val_score\n",
        "\n",
        "cv_results=cross_val_score(model,X,y,cv=10)"
      ]
    },
    {
      "cell_type": "code",
      "execution_count": null,
      "metadata": {
        "id": "0ZA-VjGFwQHu",
        "colab": {
          "base_uri": "https://localhost:8080/"
        },
        "outputId": "af743579-26e5-4749-c65e-04a3c257873f"
      },
      "outputs": [
        {
          "output_type": "stream",
          "name": "stdout",
          "text": [
            "[0.94731353 0.94321755 0.91186603 0.94098657 0.9463021  0.89744822\n",
            " 0.93189163 0.94631213 0.94358974 0.95086679]\n"
          ]
        }
      ],
      "source": [
        "print(cv_results)"
      ]
    },
    {
      "cell_type": "code",
      "execution_count": null,
      "metadata": {
        "id": "5Kn3n8CUwSCP",
        "colab": {
          "base_uri": "https://localhost:8080/"
        },
        "outputId": "5decca9f-f4a2-4b3d-8a41-92fc53757bcd"
      },
      "outputs": [
        {
          "output_type": "stream",
          "name": "stdout",
          "text": [
            "Accuracy by cross validation :  0.9359794300348341\n"
          ]
        }
      ],
      "source": [
        "print(\"Accuracy by cross validation : \",cv_results.mean())\n"
      ]
    },
    {
      "cell_type": "markdown",
      "metadata": {
        "id": "fbuV9gWHgLfo"
      },
      "source": [
        "# **KNN**"
      ]
    },
    {
      "cell_type": "code",
      "execution_count": null,
      "metadata": {
        "id": "c1WiUQU2gpLG"
      },
      "outputs": [],
      "source": [
        "from sklearn.neighbors import KNeighborsClassifier\n",
        "from sklearn.model_selection import train_test_split\n",
        "from sklearn import metrics\n",
        "\n",
        "\n",
        "X=data.drop(['Price'],axis=1)\n",
        "y = np.log1p(data['Price']*100000)\n",
        "y=y.astype(int)\n",
        "\n",
        "X_train, X_test, y_train, y_test = train_test_split(X, y, test_size=0.2, random_state=4)"
      ]
    },
    {
      "cell_type": "code",
      "execution_count": null,
      "metadata": {
        "id": "yEt9HTeThoVL"
      },
      "outputs": [],
      "source": [
        "k_range=range(1,26)\n",
        "scores={}\n",
        "scores_list=[]\n",
        "for k in k_range:\n",
        "  knn = KNeighborsClassifier(n_neighbors=k)\n",
        "  knn.fit(X_train,y_train)\n",
        "  y_pred=knn.predict(X_test)\n",
        "  scores[k]=metrics.accuracy_score(y_test,y_pred)\n",
        "  scores_list.append(metrics.accuracy_score(y_test,y_pred))"
      ]
    },
    {
      "cell_type": "code",
      "execution_count": null,
      "metadata": {
        "id": "rzu0ViW6nAj4",
        "colab": {
          "base_uri": "https://localhost:8080/"
        },
        "outputId": "461c5f6d-06cd-4b6e-c281-c04cb19b6464"
      },
      "outputs": [
        {
          "output_type": "stream",
          "name": "stdout",
          "text": [
            "1   :   0.731442869057548\n",
            "2   :   0.6663886572143453\n",
            "3   :   0.7389491242702252\n",
            "4   :   0.7139282735613011\n",
            "5   :   0.7389491242702252\n",
            "6   :   0.7164303586321935\n",
            "7   :   0.74395329441201\n",
            "8   :   0.7172643869891576\n",
            "9   :   0.7264386989157632\n",
            "10   :   0.7155963302752294\n",
            "11   :   0.725604670558799\n",
            "12   :   0.7306088407005839\n",
            "13   :   0.7322768974145121\n",
            "14   :   0.7306088407005839\n",
            "15   :   0.7331109257714762\n",
            "16   :   0.7322768974145121\n",
            "17   :   0.7364470391993327\n",
            "18   :   0.7306088407005839\n",
            "19   :   0.7339449541284404\n",
            "20   :   0.7239366138448707\n",
            "21   :   0.7306088407005839\n",
            "22   :   0.7214345287739783\n",
            "23   :   0.7297748123436196\n",
            "24   :   0.7322768974145121\n",
            "25   :   0.7247706422018348\n"
          ]
        }
      ],
      "source": [
        "for i in scores:\n",
        "  print(i,\"  :  \",scores[i])"
      ]
    },
    {
      "cell_type": "code",
      "execution_count": null,
      "metadata": {
        "id": "G_7wW_k-chV3",
        "colab": {
          "base_uri": "https://localhost:8080/"
        },
        "outputId": "6884ba71-b06e-4a33-8794-45fa2d687c1e"
      },
      "outputs": [
        {
          "output_type": "display_data",
          "data": {
            "image/png": "[encoded data removed]",
            "text/plain": [
              "<Figure size 432x288 with 1 Axes>"
            ]
          },
          "metadata": {
            "needs_background": "light"
          }
        }
      ],
      "source": [
        "%matplotlib inline\n",
        "import matplotlib.pyplot as plt\n",
        "plt.plot(k_range,scores_list)\n",
        "plt.xlabel('Value of k for KNN')\n",
        "plt.ylabel('Testing Accuracy')\n",
        "plt.show()"
      ]
    },
    {
      "cell_type": "markdown",
      "metadata": {
        "id": "Ttgwj6eklnQv"
      },
      "source": [
        "model has best accuracy when k is 7"
      ]
    },
    {
      "cell_type": "code",
      "execution_count": null,
      "metadata": {
        "id": "ME06mqd-k8H3",
        "colab": {
          "base_uri": "https://localhost:8080/"
        },
        "outputId": "756b68ef-a742-4921-b79e-db9cce62e535"
      },
      "outputs": [
        {
          "output_type": "execute_result",
          "data": {
            "text/plain": [
              "KNeighborsClassifier(n_neighbors=7)"
            ]
          },
          "metadata": {},
          "execution_count": 56
        }
      ],
      "source": [
        "knn = KNeighborsClassifier(n_neighbors=7)\n",
        "knn.fit(X_train,y_train)"
      ]
    },
    {
      "cell_type": "code",
      "source": [
        "knn.score(X_test,y_test)"
      ],
      "metadata": {
        "id": "qvtgsmWFd9pp",
        "colab": {
          "base_uri": "https://localhost:8080/"
        },
        "outputId": "ccb55590-bca1-4478-80e0-e182c42a6a1f"
      },
      "execution_count": null,
      "outputs": [
        {
          "output_type": "execute_result",
          "data": {
            "text/plain": [
              "0.74395329441201"
            ]
          },
          "metadata": {},
          "execution_count": 57
        }
      ]
    },
    {
      "cell_type": "code",
      "source": [
        "from sklearn import metrics\n",
        "from sklearn.metrics import r2_score\n",
        "\n",
        "print('Mean Absolute Error:', metrics.mean_absolute_error(y_test, y_pred))\n",
        "print('Mean Squared Error:', metrics.mean_squared_error(y_test, y_pred))\n",
        "print('Root Mean Squared Error:', np.sqrt(metrics.mean_squared_error(y_test, y_pred)))\n"
      ],
      "metadata": {
        "id": "Avz9w1xmdeiA",
        "colab": {
          "base_uri": "https://localhost:8080/"
        },
        "outputId": "211a9092-6180-464e-fa83-96af169ea042"
      },
      "execution_count": null,
      "outputs": [
        {
          "output_type": "stream",
          "name": "stdout",
          "text": [
            "Mean Absolute Error: 0.27689741451209343\n",
            "Mean Squared Error: 0.28023352793994993\n",
            "Root Mean Squared Error: 0.5293708793841515\n"
          ]
        }
      ]
    },
    {
      "cell_type": "markdown",
      "source": [
        "**CROSS VALIDATION**"
      ],
      "metadata": {
        "id": "3_jz4lSAdj9u"
      }
    },
    {
      "cell_type": "code",
      "source": [
        "from sklearn.model_selection import cross_val_score\n",
        "\n",
        "cv_results=cross_val_score(knn,X,y,cv=7)"
      ],
      "metadata": {
        "id": "cJuwd8PQdjKR"
      },
      "execution_count": null,
      "outputs": []
    },
    {
      "cell_type": "code",
      "source": [
        "print(cv_results)"
      ],
      "metadata": {
        "id": "m6b0rJrtduoc",
        "colab": {
          "base_uri": "https://localhost:8080/"
        },
        "outputId": "cd26c27d-55dc-4209-eb9e-d63ca8623b43"
      },
      "execution_count": null,
      "outputs": [
        {
          "output_type": "stream",
          "name": "stdout",
          "text": [
            "[0.77219626 0.73481308 0.74649533 0.73364486 0.7161215  0.75\n",
            " 0.76608187]\n"
          ]
        }
      ]
    },
    {
      "cell_type": "code",
      "source": [
        "print(\"Accuracy by cross validation : \",cv_results.mean())"
      ],
      "metadata": {
        "id": "n1Uq-fu0duD4",
        "colab": {
          "base_uri": "https://localhost:8080/"
        },
        "outputId": "f388e638-4047-4645-8f4e-966497a38941"
      },
      "execution_count": null,
      "outputs": [
        {
          "output_type": "stream",
          "name": "stdout",
          "text": [
            "Accuracy by cross validation :  0.7456218427689161\n"
          ]
        }
      ]
    },
    {
      "cell_type": "markdown",
      "metadata": {
        "id": "LuC1PWWclyel"
      },
      "source": [
        "# Visualization"
      ]
    },
    {
      "cell_type": "code",
      "execution_count": null,
      "metadata": {
        "id": "z9x7Beb0mKil"
      },
      "outputs": [],
      "source": [
        "import seaborn as sns\n",
        "sns.color_palette(\"viridis\", as_cmap=True)\n",
        "import matplotlib.pyplot as mp"
      ]
    },
    {
      "cell_type": "code",
      "execution_count": null,
      "metadata": {
        "id": "Cq0Q7ryAqDI6",
        "colab": {
          "base_uri": "https://localhost:8080/",
          "height": 369
        },
        "outputId": "16a0ade9-0dae-4791-8cfe-8c4808d736d9"
      },
      "outputs": [
        {
          "output_type": "execute_result",
          "data": {
            "text/plain": [
              "(array([ 138.,  496., 1390., 1640.,  985.,  498.,  415.,  275.,  124.,\n",
              "          30.]),\n",
              " array([0.36464311, 0.78969085, 1.21473859, 1.63978633, 2.06483407,\n",
              "        2.48988182, 2.91492956, 3.3399773 , 3.76502504, 4.19007278,\n",
              "        4.61512052]),\n",
              " <a list of 10 Patch objects>)"
            ]
          },
          "metadata": {},
          "execution_count": 63
        },
        {
          "output_type": "display_data",
          "data": {
            "image/png": "[encoded data removed]",
            "text/plain": [
              "<Figure size 432x288 with 1 Axes>"
            ]
          },
          "metadata": {
            "needs_background": "light"
          }
        }
      ],
      "source": [
        "plt.hist(data.Price,edgecolor=\"black\",color=\"skyblue\")"
      ]
    },
    {
      "cell_type": "code",
      "execution_count": null,
      "metadata": {
        "id": "kvCTZTc1LcIF",
        "colab": {
          "base_uri": "https://localhost:8080/",
          "height": 351
        },
        "outputId": "606cd8f5-b37d-4eb4-e790-7781cc86e464"
      },
      "outputs": [
        {
          "output_type": "display_data",
          "data": {
            "image/png": "[encoded data removed]",
            "text/plain": [
              "<Figure size 432x288 with 2 Axes>"
            ]
          },
          "metadata": {
            "needs_background": "light"
          }
        }
      ],
      "source": [
        "correlation_plot = sns.heatmap(data.corr(), cmap='viridis', annot=False)"
      ]
    },
    {
      "cell_type": "code",
      "source": [
        "plt.bar(data['Year'],data['Price'], color='lightblue', width=0.6)\n",
        "plt.xlabel(\"Year\")\n",
        "plt.ylabel(\"Price\")\n",
        "plt.title(\"Year vs. Price\")\n",
        "plt.show()"
      ],
      "metadata": {
        "id": "RIsVL01tem7R",
        "colab": {
          "base_uri": "https://localhost:8080/",
          "height": 295
        },
        "outputId": "e135cea1-1e3c-4a79-f2f7-25532f0667a2"
      },
      "execution_count": null,
      "outputs": [
        {
          "output_type": "display_data",
          "data": {
            "image/png": "[encoded data removed]",
            "text/plain": [
              "<Figure size 432x288 with 1 Axes>"
            ]
          },
          "metadata": {
            "needs_background": "light"
          }
        }
      ]
    },
    {
      "cell_type": "code",
      "source": [
        "plt.scatter(data['Kilometers_Driven'], data['Price'])"
      ],
      "metadata": {
        "id": "AGDKScQebyTM",
        "colab": {
          "base_uri": "https://localhost:8080/",
          "height": 283
        },
        "outputId": "4272257a-3c1b-417d-a2c7-474e606390ae"
      },
      "execution_count": null,
      "outputs": [
        {
          "output_type": "execute_result",
          "data": {
            "text/plain": [
              "<matplotlib.collections.PathCollection at 0x7f813d514a50>"
            ]
          },
          "metadata": {},
          "execution_count": 66
        },
        {
          "output_type": "display_data",
          "data": {
            "image/png": "[encoded data removed]",
            "text/plain": [
              "<Figure size 432x288 with 1 Axes>"
            ]
          },
          "metadata": {
            "needs_background": "light"
          }
        }
      ]
    },
    {
      "cell_type": "code",
      "source": [
        "plt.scatter(x=data['Power'], y=data['Price'], color='coral')"
      ],
      "metadata": {
        "id": "Ky98TwAIB6qI",
        "colab": {
          "base_uri": "https://localhost:8080/",
          "height": 283
        },
        "outputId": "36d41138-8c30-4a05-d288-74f8d8a3c075"
      },
      "execution_count": null,
      "outputs": [
        {
          "output_type": "execute_result",
          "data": {
            "text/plain": [
              "<matplotlib.collections.PathCollection at 0x7f81413f2490>"
            ]
          },
          "metadata": {},
          "execution_count": 67
        },
        {
          "output_type": "display_data",
          "data": {
            "image/png": "[encoded data removed]",
            "text/plain": [
              "<Figure size 432x288 with 1 Axes>"
            ]
          },
          "metadata": {
            "needs_background": "light"
          }
        }
      ]
    },
    {
      "cell_type": "markdown",
      "source": [
        "# PERMORMANCE ANALYSIS"
      ],
      "metadata": {
        "id": "1jZWcSL9rTSM"
      }
    },
    {
      "cell_type": "code",
      "source": [
        "import seaborn as sns\n",
        "import pandas as pd"
      ],
      "metadata": {
        "id": "y63AHiqYriBJ"
      },
      "execution_count": null,
      "outputs": []
    },
    {
      "cell_type": "markdown",
      "source": [
        "**Model Comparison**"
      ],
      "metadata": {
        "id": "i2lbXohcQnFQ"
      }
    },
    {
      "cell_type": "code",
      "source": [
        "res=pd.read_csv(\"/content/drive/MyDrive/Colab Notebooks/data/result_stats.csv\")"
      ],
      "metadata": {
        "id": "gHxuH0KPhejV"
      },
      "execution_count": null,
      "outputs": []
    },
    {
      "cell_type": "code",
      "source": [
        "g = sns.catplot(\n",
        "    data=res, kind=\"bar\",\n",
        "    x=\"Model\", y=\"Result\", hue=\"Type\",ci=\"sd\", palette=\"coolwarm_r\", alpha=.6, height=6\n",
        ")\n",
        "g.despine(left=True)\n",
        "g.set_axis_labels(\"\", \"Result\")\n",
        "g.legend.set_title(\"Evaluation\")\n",
        "g.fig.suptitle('MODEL COMPARISON')\n",
        "\n",
        "g.fig.subplots_adjust(top=0.9)\n",
        "\n",
        "ax = g.facet_axis(0,0)\n",
        "for p in ax.patches:\n",
        "    ax.text(p.get_x(), \n",
        "            p.get_height(), \n",
        "           '{0:.4f}'.format(p.get_height()), \n",
        "            color='black', \n",
        "            rotation='vertical', \n",
        "            size='small')"
      ],
      "metadata": {
        "id": "Pv2v5HiToBnJ",
        "colab": {
          "base_uri": "https://localhost:8080/",
          "height": 429
        },
        "outputId": "e3345f39-94a3-49f7-d0b3-b7b2f5c7295e"
      },
      "execution_count": null,
      "outputs": [
        {
          "output_type": "display_data",
          "data": {
            "image/png": "[encoded data removed]",
            "text/plain": [
              "<Figure size 513.75x432 with 1 Axes>"
            ]
          },
          "metadata": {
            "needs_background": "light"
          }
        }
      ]
    },
    {
      "cell_type": "code",
      "source": [
        "g = sns.catplot(\n",
        "    data=res, kind=\"bar\",\n",
        "    x=\"Type\", y=\"Result\", hue=\"Model\",ci=\"sd\", palette=\"coolwarm_r\", alpha=.6, height=6\n",
        ")\n",
        "g.despine(left=True)\n",
        "g.set_axis_labels(\"\", \"Result\")\n",
        "g.legend.set_title(\"Model\")\n",
        "g.fig.suptitle('MODEL COMPARISON')\n",
        "\n",
        "g.fig.subplots_adjust(top=0.9)\n",
        "\n",
        "ax = g.facet_axis(0,0)\n",
        "for p in ax.patches:\n",
        "    ax.text(p.get_x(), \n",
        "            p.get_height(), \n",
        "           '{0:.4f}'.format(p.get_height()), \n",
        "            color='black', \n",
        "            rotation='vertical', \n",
        "            size='small')"
      ],
      "metadata": {
        "id": "Lb4RrTUlpPzB",
        "colab": {
          "base_uri": "https://localhost:8080/",
          "height": 429
        },
        "outputId": "a470ac88-b811-49ce-92bb-0c231f1ea484"
      },
      "execution_count": null,
      "outputs": [
        {
          "output_type": "display_data",
          "data": {
            "image/png": "[encoded data removed]",
            "text/plain": [
              "<Figure size 556.875x432 with 1 Axes>"
            ]
          },
          "metadata": {
            "needs_background": "light"
          }
        }
      ]
    },
    {
      "cell_type": "markdown",
      "source": [
        "**Train-Test**"
      ],
      "metadata": {
        "id": "yTf2SAxYH2CW"
      }
    },
    {
      "cell_type": "code",
      "source": [
        "res1=pd.read_csv(\"/content/drive/MyDrive/Colab Notebooks/data/result_stats_1.csv\")"
      ],
      "metadata": {
        "id": "Yz1mnKggHt3u"
      },
      "execution_count": null,
      "outputs": []
    },
    {
      "cell_type": "code",
      "source": [
        "g = sns.catplot(\n",
        "    data=res1.iloc[:8,:], kind=\"bar\",\n",
        "    x=\"Type\", y=\"Result\", hue='Train_Test',ci=\"sd\", palette=\"coolwarm_r\"\n",
        ")\n",
        "\n",
        "\n",
        "g.despine(left=True)\n",
        "g.set_axis_labels(\"\", \"Result\")\n",
        "g.legend.set_title(\"Train-Test-split\")\n",
        "g.fig.suptitle('LINEAR REGRESSION')\n",
        "\n",
        "g.fig.subplots_adjust(top=0.8)\n",
        "\n",
        "ax = g.facet_axis(0,0)\n",
        "for p in ax.patches:\n",
        "    ax.text(p.get_x(), \n",
        "            p.get_height(), \n",
        "           '{0:.4f}'.format(p.get_height()), \n",
        "            color='black', \n",
        "            rotation='vertical', \n",
        "            size='small')"
      ],
      "metadata": {
        "id": "fjl1Nk-6EuOc",
        "colab": {
          "base_uri": "https://localhost:8080/",
          "height": 359
        },
        "outputId": "6915e7eb-494c-4a10-bf03-fa9ba6969a9f"
      },
      "execution_count": null,
      "outputs": [
        {
          "output_type": "display_data",
          "data": {
            "image/png": "[encoded data removed]",
            "text/plain": [
              "<Figure size 424.75x360 with 1 Axes>"
            ]
          },
          "metadata": {
            "needs_background": "light"
          }
        }
      ]
    },
    {
      "cell_type": "code",
      "source": [
        "g = sns.catplot(\n",
        "    data=res1.iloc[8:16,:], kind=\"bar\",\n",
        "    x=\"Type\", y=\"Result\", hue='Train_Test',ci=\"sd\", palette=\"coolwarm_r\"\n",
        ")\n",
        "g.despine(left=True)\n",
        "g.set_axis_labels(\"\", \"Result\")\n",
        "g.legend.set_title(\"Train-Test-split\")\n",
        "g.fig.suptitle('DECISION TREE REGRESSION ')\n",
        "\n",
        "g.fig.subplots_adjust(top=0.9)\n",
        "\n",
        "ax = g.facet_axis(0,0)\n",
        "for p in ax.patches:\n",
        "    ax.text(p.get_x(), \n",
        "            p.get_height(), \n",
        "           '{0:.4f}'.format(p.get_height()), \n",
        "            color='black', \n",
        "            rotation='vertical', \n",
        "            size='small')"
      ],
      "metadata": {
        "id": "glr7m2FrGxyV",
        "colab": {
          "base_uri": "https://localhost:8080/",
          "height": 359
        },
        "outputId": "35e8d992-6da2-4ace-ef3e-0779334daf51"
      },
      "execution_count": null,
      "outputs": [
        {
          "output_type": "display_data",
          "data": {
            "image/png": "[encoded data removed]",
            "text/plain": [
              "<Figure size 424.75x360 with 1 Axes>"
            ]
          },
          "metadata": {
            "needs_background": "light"
          }
        }
      ]
    },
    {
      "cell_type": "code",
      "source": [
        "g = sns.catplot(\n",
        "    data=res1.iloc[16:24,:], kind=\"bar\",\n",
        "    x=\"Type\", y=\"Result\", hue='Train_Test',ci=\"sd\", palette=\"coolwarm_r\"\n",
        ")\n",
        "g.despine(left=True)\n",
        "g.set_axis_labels(\"\", \"Result\")\n",
        "g.legend.set_title(\"Train-Test-split\")\n",
        "g.fig.suptitle('RANDOM FOREST ')\n",
        "\n",
        "g.fig.subplots_adjust(top=0.8)\n",
        "\n",
        "ax = g.facet_axis(0,0)\n",
        "for p in ax.patches:\n",
        "    ax.text(p.get_x(), \n",
        "            p.get_height(), \n",
        "           '{0:.4f}'.format(p.get_height()), \n",
        "            color='black', \n",
        "            rotation='vertical', \n",
        "            size='small')"
      ],
      "metadata": {
        "id": "ZRvzY2WrtuZ3",
        "colab": {
          "base_uri": "https://localhost:8080/",
          "height": 359
        },
        "outputId": "8a960381-9acd-4065-908a-6c15f5ff8bd8"
      },
      "execution_count": null,
      "outputs": [
        {
          "output_type": "display_data",
          "data": {
            "image/png": "[encoded data removed]",
            "text/plain": [
              "<Figure size 424.75x360 with 1 Axes>"
            ]
          },
          "metadata": {
            "needs_background": "light"
          }
        }
      ]
    },
    {
      "cell_type": "code",
      "source": [
        "g = sns.catplot(\n",
        "    data=res1.iloc[24:32,:], kind=\"bar\",\n",
        "    x=\"Type\", y=\"Result\", hue='Train_Test',ci=\"sd\", palette=\"coolwarm_r\"\n",
        ")\n",
        "g.despine(left=True)\n",
        "g.set_axis_labels(\"\", \"Result\")\n",
        "g.legend.set_title(\"Train-Test-split\")\n",
        "g.fig.suptitle('KNN')\n",
        "\n",
        "g.fig.subplots_adjust(top=0.9)\n",
        "\n",
        "ax = g.facet_axis(0,0)\n",
        "for p in ax.patches:\n",
        "    ax.text(p.get_x(), \n",
        "            p.get_height(), \n",
        "           '{0:.4f}'.format(p.get_height()), \n",
        "            color='black', \n",
        "            rotation='vertical', \n",
        "            size='small')"
      ],
      "metadata": {
        "id": "2vcbqWiIxTPt",
        "colab": {
          "base_uri": "https://localhost:8080/",
          "height": 359
        },
        "outputId": "cd151603-fb91-42ad-b8e9-e0a1e0cb8cc5"
      },
      "execution_count": null,
      "outputs": [
        {
          "output_type": "display_data",
          "data": {
            "image/png": "[encoded data removed]",
            "text/plain": [
              "<Figure size 424.75x360 with 1 Axes>"
            ]
          },
          "metadata": {
            "needs_background": "light"
          }
        }
      ]
    },
    {
      "cell_type": "markdown",
      "source": [
        "**CV**"
      ],
      "metadata": {
        "id": "fPlysGSwNkrE"
      }
    },
    {
      "cell_type": "code",
      "source": [
        "res2=pd.read_csv(\"/content/drive/MyDrive/Colab Notebooks/data/cv_stats.csv\")"
      ],
      "metadata": {
        "id": "vYTE7uzRNnvx"
      },
      "execution_count": null,
      "outputs": []
    },
    {
      "cell_type": "code",
      "source": [
        "g = sns.catplot(\n",
        "    data=res2, kind=\"bar\",\n",
        "    x=\"Model\", y=\"Accuracy\", hue=\"CV\", palette=\"coolwarm_r\",aspect=1.5,height=6\n",
        "    )\n",
        "g.despine(left=True)\n",
        "g.set_axis_labels(\"\", \"Accuracy\")\n",
        "g.legend.set_title(\"cv\")\n",
        "g.fig.suptitle('CV COMPARISON')\n",
        "\n",
        "g.fig.subplots_adjust(top=0.8)\n",
        "\n",
        "ax = g.facet_axis(0,0)\n",
        "for p in ax.patches:\n",
        "    ax.text(p.get_x(), \n",
        "            p.get_height(), \n",
        "           '{0:.4f}'.format(p.get_height()), \n",
        "            color='black', \n",
        "            rotation='vertical', \n",
        "            size='small')"
      ],
      "metadata": {
        "id": "D2BGR8H0syut",
        "colab": {
          "base_uri": "https://localhost:8080/",
          "height": 585
        },
        "outputId": "0b29b963-dd19-4662-c631-6d10cbad6f11"
      },
      "execution_count": null,
      "outputs": [
        {
          "output_type": "stream",
          "name": "stderr",
          "text": [
            "posx and posy should be finite values\n",
            "posx and posy should be finite values\n",
            "posx and posy should be finite values\n",
            "posx and posy should be finite values\n",
            "posx and posy should be finite values\n",
            "posx and posy should be finite values\n",
            "posx and posy should be finite values\n",
            "posx and posy should be finite values\n",
            "posx and posy should be finite values\n"
          ]
        },
        {
          "output_type": "display_data",
          "data": {
            "image/png": "[encoded data removed]",
            "text/plain": [
              "<Figure size 701.5x432 with 1 Axes>"
            ]
          },
          "metadata": {
            "needs_background": "light"
          }
        }
      ]
    }
  ],
  "metadata": {
    "colab": {
      "collapsed_sections": [
        "-fnngHTfkwa9",
        "FHFuQJEfQhJ7",
        "jKqakFGwAJOY",
        "fbuV9gWHgLfo"
      ],
      "name": "DS_Mini_Project.ipynb",
      "provenance": []
    },
    "kernelspec": {
      "display_name": "Python 3",
      "name": "python3"
    },
    "language_info": {
      "name": "python"
    }
  },
  "nbformat": 4,
  "nbformat_minor": 0
}